{
  "cells": [
    {
      "cell_type": "markdown",
      "metadata": {
        "id": "hXML2GuPHxvg"
      },
      "source": [
        "![UM-Dearborn_Logo-RGB.png](data:image/png;base64,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)\n",
        "\n",
        "<h1>Sentiment Analysis of Twitter Data Using Machine Learning Techniques</h1>\n",
        "\n",
        "Students in the project group:\n",
        "● Branden Oden and\n",
        "● Mouncif Lomri\n",
        "\n",
        "\n",
        "Project Description:\n",
        "In this project, we will analyze stock-related tweets to determine public sentiment and predict\n",
        "stock price movements. By leveraging natural language processing (NLP) techniques, we aim to\n",
        "classify tweets into positive, negative, or neutral sentiment and correlate this sentiment with\n",
        "stock price trends. The outcome\n",
        "will help investors and analysts make informed decisions based on social media sentiment.\n",
        "\n"
      ]
    },
    {
      "cell_type": "markdown",
      "metadata": {
        "id": "k0pwA66BACFH"
      },
      "source": [
        "\n",
        "\n",
        "## **1.1** Connect to Kaggle Api\n"
      ]
    },
    {
      "cell_type": "markdown",
      "metadata": {
        "id": "NIOIlGVUUm-n"
      },
      "source": [
        "* Initiate the connection with Google Drive"
      ]
    },
    {
      "cell_type": "code",
      "execution_count": 1,
      "metadata": {
        "colab": {
          "base_uri": "https://localhost:8080/"
        },
        "id": "Rxz1za_qBYRt",
        "outputId": "f91e4f9f-420b-419b-947c-f0ae39f44a37"
      },
      "outputs": [
        {
          "output_type": "stream",
          "name": "stdout",
          "text": [
            "Requirement already satisfied: kaggle in /usr/local/lib/python3.11/dist-packages (1.7.4.2)\n",
            "Requirement already satisfied: bleach in /usr/local/lib/python3.11/dist-packages (from kaggle) (6.2.0)\n",
            "Requirement already satisfied: certifi>=14.05.14 in /usr/local/lib/python3.11/dist-packages (from kaggle) (2025.1.31)\n",
            "Requirement already satisfied: charset-normalizer in /usr/local/lib/python3.11/dist-packages (from kaggle) (3.4.1)\n",
            "Requirement already satisfied: idna in /usr/local/lib/python3.11/dist-packages (from kaggle) (3.10)\n",
            "Requirement already satisfied: protobuf in /usr/local/lib/python3.11/dist-packages (from kaggle) (5.29.4)\n",
            "Requirement already satisfied: python-dateutil>=2.5.3 in /usr/local/lib/python3.11/dist-packages (from kaggle) (2.9.0.post0)\n",
            "Requirement already satisfied: python-slugify in /usr/local/lib/python3.11/dist-packages (from kaggle) (8.0.4)\n",
            "Requirement already satisfied: requests in /usr/local/lib/python3.11/dist-packages (from kaggle) (2.32.3)\n",
            "Requirement already satisfied: setuptools>=21.0.0 in /usr/local/lib/python3.11/dist-packages (from kaggle) (75.2.0)\n",
            "Requirement already satisfied: six>=1.10 in /usr/local/lib/python3.11/dist-packages (from kaggle) (1.17.0)\n",
            "Requirement already satisfied: text-unidecode in /usr/local/lib/python3.11/dist-packages (from kaggle) (1.3)\n",
            "Requirement already satisfied: tqdm in /usr/local/lib/python3.11/dist-packages (from kaggle) (4.67.1)\n",
            "Requirement already satisfied: urllib3>=1.15.1 in /usr/local/lib/python3.11/dist-packages (from kaggle) (2.3.0)\n",
            "Requirement already satisfied: webencodings in /usr/local/lib/python3.11/dist-packages (from kaggle) (0.5.1)\n"
          ]
        }
      ],
      "source": [
        "! pip install kaggle\n"
      ]
    },
    {
      "cell_type": "code",
      "execution_count": 2,
      "metadata": {
        "colab": {
          "base_uri": "https://localhost:8080/"
        },
        "id": "ht9GPIq03f-t",
        "outputId": "234d6253-df98-4b50-dac5-e28f20c304c0"
      },
      "outputs": [
        {
          "output_type": "stream",
          "name": "stdout",
          "text": [
            "Path to dataset files: /kaggle/input/sentiment140\n"
          ]
        }
      ],
      "source": [
        "import kagglehub\n",
        "\n",
        "# Download latest version\n",
        "path = kagglehub.dataset_download(\"kazanova/sentiment140\")\n",
        "\n",
        "print(\"Path to dataset files:\", path)"
      ]
    },
    {
      "cell_type": "markdown",
      "metadata": {
        "id": "i8IZvvYyA9sr"
      },
      "source": [
        "\n",
        "\n",
        "## **1.2** Load and analyze Dataset"
      ]
    },
    {
      "cell_type": "code",
      "execution_count": 3,
      "metadata": {
        "id": "-K4rZaHvkJhd"
      },
      "outputs": [],
      "source": [
        "import pandas as pd\n",
        "import numpy as np"
      ]
    },
    {
      "cell_type": "code",
      "execution_count": 4,
      "metadata": {
        "colab": {
          "base_uri": "https://localhost:8080/",
          "height": 424
        },
        "id": "BMVYdAbhkSEv",
        "outputId": "baa46ed1-48ba-440c-98e2-b77b7978586d"
      },
      "outputs": [
        {
          "output_type": "execute_result",
          "data": {
            "text/plain": [
              "         0  1467810369  Mon Apr 06 22:19:45 PDT 2009  NO_QUERY  \\\n",
              "679819   0  2249335229  Fri Jun 19 22:08:25 PDT 2009  NO_QUERY   \n",
              "1225     0  1468111947  Mon Apr 06 23:46:44 PDT 2009  NO_QUERY   \n",
              "1456162  4  2063473822  Sun Jun 07 02:48:14 PDT 2009  NO_QUERY   \n",
              "580617   0  2214011356  Wed Jun 17 16:08:42 PDT 2009  NO_QUERY   \n",
              "349901   0  2017406967  Wed Jun 03 08:20:27 PDT 2009  NO_QUERY   \n",
              "...     ..         ...                           ...       ...   \n",
              "237167   0  1980145601  Sun May 31 05:50:36 PDT 2009  NO_QUERY   \n",
              "263090   0  1986418859  Sun May 31 18:48:34 PDT 2009  NO_QUERY   \n",
              "136713   0  1880157134  Fri May 22 00:16:53 PDT 2009  NO_QUERY   \n",
              "693756   0  2252813924  Sat Jun 20 07:02:55 PDT 2009  NO_QUERY   \n",
              "1016287  4  1881684259  Fri May 22 05:18:34 PDT 2009  NO_QUERY   \n",
              "\n",
              "         _TheSpecialOne_  \\\n",
              "679819            Zveshi   \n",
              "1225           tori_owns   \n",
              "1456162    veganwordnerd   \n",
              "580617         Shirvaney   \n",
              "349901     gingerboystew   \n",
              "...                  ...   \n",
              "237167        traceylien   \n",
              "263090   EmilyRetherford   \n",
              "136713           Essitam   \n",
              "693756    miguelstdancer   \n",
              "1016287        KatyFreer   \n",
              "\n",
              "        @switchfoot http://twitpic.com/2y1zl - Awww, that's a bummer.  You shoulda got David Carr of Third Day to do it. ;D  \n",
              "679819   @BitchenFries I bet those are members only par...                                                                   \n",
              "1225     im so tired this morning and there was only co...                                                                   \n",
              "1456162  Ani Sunday, day of a few friends Twittering th...                                                                   \n",
              "580617                                    Rainy day ahead                                                                    \n",
              "349901   Computing exam tomorrow! Then study leave is o...                                                                   \n",
              "...                                                    ...                                                                   \n",
              "237167   @tnbasement Neither. Kind of...vegetably and.....                                                                   \n",
              "263090   @Kecia08 Naps always sound like a great idea, ...                                                                   \n",
              "136713   My sausage lip has gone, swelling has abated b...                                                                   \n",
              "693756                      @mcflyharry                                                                                      \n",
              "1016287                                 @eva_bx Yes It Is                                                                    \n",
              "\n",
              "[100 rows x 6 columns]"
            ],
            "text/html": [
              "\n",
              "  <div id=\"df-bdbfffce-c08a-43e5-a0d4-12d1757b5f3c\" class=\"colab-df-container\">\n",
              "    <div>\n",
              "<style scoped>\n",
              "    .dataframe tbody tr th:only-of-type {\n",
              "        vertical-align: middle;\n",
              "    }\n",
              "\n",
              "    .dataframe tbody tr th {\n",
              "        vertical-align: top;\n",
              "    }\n",
              "\n",
              "    .dataframe thead th {\n",
              "        text-align: right;\n",
              "    }\n",
              "</style>\n",
              "<table border=\"1\" class=\"dataframe\">\n",
              "  <thead>\n",
              "    <tr style=\"text-align: right;\">\n",
              "      <th></th>\n",
              "      <th>0</th>\n",
              "      <th>1467810369</th>\n",
              "      <th>Mon Apr 06 22:19:45 PDT 2009</th>\n",
              "      <th>NO_QUERY</th>\n",
              "      <th>_TheSpecialOne_</th>\n",
              "      <th>@switchfoot http://twitpic.com/2y1zl - Awww, that's a bummer.  You shoulda got David Carr of Third Day to do it. ;D</th>\n",
              "    </tr>\n",
              "  </thead>\n",
              "  <tbody>\n",
              "    <tr>\n",
              "      <th>679819</th>\n",
              "      <td>0</td>\n",
              "      <td>2249335229</td>\n",
              "      <td>Fri Jun 19 22:08:25 PDT 2009</td>\n",
              "      <td>NO_QUERY</td>\n",
              "      <td>Zveshi</td>\n",
              "      <td>@BitchenFries I bet those are members only par...</td>\n",
              "    </tr>\n",
              "    <tr>\n",
              "      <th>1225</th>\n",
              "      <td>0</td>\n",
              "      <td>1468111947</td>\n",
              "      <td>Mon Apr 06 23:46:44 PDT 2009</td>\n",
              "      <td>NO_QUERY</td>\n",
              "      <td>tori_owns</td>\n",
              "      <td>im so tired this morning and there was only co...</td>\n",
              "    </tr>\n",
              "    <tr>\n",
              "      <th>1456162</th>\n",
              "      <td>4</td>\n",
              "      <td>2063473822</td>\n",
              "      <td>Sun Jun 07 02:48:14 PDT 2009</td>\n",
              "      <td>NO_QUERY</td>\n",
              "      <td>veganwordnerd</td>\n",
              "      <td>Ani Sunday, day of a few friends Twittering th...</td>\n",
              "    </tr>\n",
              "    <tr>\n",
              "      <th>580617</th>\n",
              "      <td>0</td>\n",
              "      <td>2214011356</td>\n",
              "      <td>Wed Jun 17 16:08:42 PDT 2009</td>\n",
              "      <td>NO_QUERY</td>\n",
              "      <td>Shirvaney</td>\n",
              "      <td>Rainy day ahead</td>\n",
              "    </tr>\n",
              "    <tr>\n",
              "      <th>349901</th>\n",
              "      <td>0</td>\n",
              "      <td>2017406967</td>\n",
              "      <td>Wed Jun 03 08:20:27 PDT 2009</td>\n",
              "      <td>NO_QUERY</td>\n",
              "      <td>gingerboystew</td>\n",
              "      <td>Computing exam tomorrow! Then study leave is o...</td>\n",
              "    </tr>\n",
              "    <tr>\n",
              "      <th>...</th>\n",
              "      <td>...</td>\n",
              "      <td>...</td>\n",
              "      <td>...</td>\n",
              "      <td>...</td>\n",
              "      <td>...</td>\n",
              "      <td>...</td>\n",
              "    </tr>\n",
              "    <tr>\n",
              "      <th>237167</th>\n",
              "      <td>0</td>\n",
              "      <td>1980145601</td>\n",
              "      <td>Sun May 31 05:50:36 PDT 2009</td>\n",
              "      <td>NO_QUERY</td>\n",
              "      <td>traceylien</td>\n",
              "      <td>@tnbasement Neither. Kind of...vegetably and.....</td>\n",
              "    </tr>\n",
              "    <tr>\n",
              "      <th>263090</th>\n",
              "      <td>0</td>\n",
              "      <td>1986418859</td>\n",
              "      <td>Sun May 31 18:48:34 PDT 2009</td>\n",
              "      <td>NO_QUERY</td>\n",
              "      <td>EmilyRetherford</td>\n",
              "      <td>@Kecia08 Naps always sound like a great idea, ...</td>\n",
              "    </tr>\n",
              "    <tr>\n",
              "      <th>136713</th>\n",
              "      <td>0</td>\n",
              "      <td>1880157134</td>\n",
              "      <td>Fri May 22 00:16:53 PDT 2009</td>\n",
              "      <td>NO_QUERY</td>\n",
              "      <td>Essitam</td>\n",
              "      <td>My sausage lip has gone, swelling has abated b...</td>\n",
              "    </tr>\n",
              "    <tr>\n",
              "      <th>693756</th>\n",
              "      <td>0</td>\n",
              "      <td>2252813924</td>\n",
              "      <td>Sat Jun 20 07:02:55 PDT 2009</td>\n",
              "      <td>NO_QUERY</td>\n",
              "      <td>miguelstdancer</td>\n",
              "      <td>@mcflyharry</td>\n",
              "    </tr>\n",
              "    <tr>\n",
              "      <th>1016287</th>\n",
              "      <td>4</td>\n",
              "      <td>1881684259</td>\n",
              "      <td>Fri May 22 05:18:34 PDT 2009</td>\n",
              "      <td>NO_QUERY</td>\n",
              "      <td>KatyFreer</td>\n",
              "      <td>@eva_bx Yes It Is</td>\n",
              "    </tr>\n",
              "  </tbody>\n",
              "</table>\n",
              "<p>100 rows × 6 columns</p>\n",
              "</div>\n",
              "    <div class=\"colab-df-buttons\">\n",
              "\n",
              "  <div class=\"colab-df-container\">\n",
              "    <button class=\"colab-df-convert\" onclick=\"convertToInteractive('df-bdbfffce-c08a-43e5-a0d4-12d1757b5f3c')\"\n",
              "            title=\"Convert this dataframe to an interactive table.\"\n",
              "            style=\"display:none;\">\n",
              "\n",
              "  <svg xmlns=\"http://www.w3.org/2000/svg\" height=\"24px\" viewBox=\"0 -960 960 960\">\n",
              "    <path d=\"M120-120v-720h720v720H120Zm60-500h600v-160H180v160Zm220 220h160v-160H400v160Zm0 220h160v-160H400v160ZM180-400h160v-160H180v160Zm440 0h160v-160H620v160ZM180-180h160v-160H180v160Zm440 0h160v-160H620v160Z\"/>\n",
              "  </svg>\n",
              "    </button>\n",
              "\n",
              "  <style>\n",
              "    .colab-df-container {\n",
              "      display:flex;\n",
              "      gap: 12px;\n",
              "    }\n",
              "\n",
              "    .colab-df-convert {\n",
              "      background-color: #E8F0FE;\n",
              "      border: none;\n",
              "      border-radius: 50%;\n",
              "      cursor: pointer;\n",
              "      display: none;\n",
              "      fill: #1967D2;\n",
              "      height: 32px;\n",
              "      padding: 0 0 0 0;\n",
              "      width: 32px;\n",
              "    }\n",
              "\n",
              "    .colab-df-convert:hover {\n",
              "      background-color: #E2EBFA;\n",
              "      box-shadow: 0px 1px 2px rgba(60, 64, 67, 0.3), 0px 1px 3px 1px rgba(60, 64, 67, 0.15);\n",
              "      fill: #174EA6;\n",
              "    }\n",
              "\n",
              "    .colab-df-buttons div {\n",
              "      margin-bottom: 4px;\n",
              "    }\n",
              "\n",
              "    [theme=dark] .colab-df-convert {\n",
              "      background-color: #3B4455;\n",
              "      fill: #D2E3FC;\n",
              "    }\n",
              "\n",
              "    [theme=dark] .colab-df-convert:hover {\n",
              "      background-color: #434B5C;\n",
              "      box-shadow: 0px 1px 3px 1px rgba(0, 0, 0, 0.15);\n",
              "      filter: drop-shadow(0px 1px 2px rgba(0, 0, 0, 0.3));\n",
              "      fill: #FFFFFF;\n",
              "    }\n",
              "  </style>\n",
              "\n",
              "    <script>\n",
              "      const buttonEl =\n",
              "        document.querySelector('#df-bdbfffce-c08a-43e5-a0d4-12d1757b5f3c button.colab-df-convert');\n",
              "      buttonEl.style.display =\n",
              "        google.colab.kernel.accessAllowed ? 'block' : 'none';\n",
              "\n",
              "      async function convertToInteractive(key) {\n",
              "        const element = document.querySelector('#df-bdbfffce-c08a-43e5-a0d4-12d1757b5f3c');\n",
              "        const dataTable =\n",
              "          await google.colab.kernel.invokeFunction('convertToInteractive',\n",
              "                                                    [key], {});\n",
              "        if (!dataTable) return;\n",
              "\n",
              "        const docLinkHtml = 'Like what you see? Visit the ' +\n",
              "          '<a target=\"_blank\" href=https://colab.research.google.com/notebooks/data_table.ipynb>data table notebook</a>'\n",
              "          + ' to learn more about interactive tables.';\n",
              "        element.innerHTML = '';\n",
              "        dataTable['output_type'] = 'display_data';\n",
              "        await google.colab.output.renderOutput(dataTable, element);\n",
              "        const docLink = document.createElement('div');\n",
              "        docLink.innerHTML = docLinkHtml;\n",
              "        element.appendChild(docLink);\n",
              "      }\n",
              "    </script>\n",
              "  </div>\n",
              "\n",
              "\n",
              "<div id=\"df-5d09d029-481c-4f68-b623-05767896c925\">\n",
              "  <button class=\"colab-df-quickchart\" onclick=\"quickchart('df-5d09d029-481c-4f68-b623-05767896c925')\"\n",
              "            title=\"Suggest charts\"\n",
              "            style=\"display:none;\">\n",
              "\n",
              "<svg xmlns=\"http://www.w3.org/2000/svg\" height=\"24px\"viewBox=\"0 0 24 24\"\n",
              "     width=\"24px\">\n",
              "    <g>\n",
              "        <path d=\"M19 3H5c-1.1 0-2 .9-2 2v14c0 1.1.9 2 2 2h14c1.1 0 2-.9 2-2V5c0-1.1-.9-2-2-2zM9 17H7v-7h2v7zm4 0h-2V7h2v10zm4 0h-2v-4h2v4z\"/>\n",
              "    </g>\n",
              "</svg>\n",
              "  </button>\n",
              "\n",
              "<style>\n",
              "  .colab-df-quickchart {\n",
              "      --bg-color: #E8F0FE;\n",
              "      --fill-color: #1967D2;\n",
              "      --hover-bg-color: #E2EBFA;\n",
              "      --hover-fill-color: #174EA6;\n",
              "      --disabled-fill-color: #AAA;\n",
              "      --disabled-bg-color: #DDD;\n",
              "  }\n",
              "\n",
              "  [theme=dark] .colab-df-quickchart {\n",
              "      --bg-color: #3B4455;\n",
              "      --fill-color: #D2E3FC;\n",
              "      --hover-bg-color: #434B5C;\n",
              "      --hover-fill-color: #FFFFFF;\n",
              "      --disabled-bg-color: #3B4455;\n",
              "      --disabled-fill-color: #666;\n",
              "  }\n",
              "\n",
              "  .colab-df-quickchart {\n",
              "    background-color: var(--bg-color);\n",
              "    border: none;\n",
              "    border-radius: 50%;\n",
              "    cursor: pointer;\n",
              "    display: none;\n",
              "    fill: var(--fill-color);\n",
              "    height: 32px;\n",
              "    padding: 0;\n",
              "    width: 32px;\n",
              "  }\n",
              "\n",
              "  .colab-df-quickchart:hover {\n",
              "    background-color: var(--hover-bg-color);\n",
              "    box-shadow: 0 1px 2px rgba(60, 64, 67, 0.3), 0 1px 3px 1px rgba(60, 64, 67, 0.15);\n",
              "    fill: var(--button-hover-fill-color);\n",
              "  }\n",
              "\n",
              "  .colab-df-quickchart-complete:disabled,\n",
              "  .colab-df-quickchart-complete:disabled:hover {\n",
              "    background-color: var(--disabled-bg-color);\n",
              "    fill: var(--disabled-fill-color);\n",
              "    box-shadow: none;\n",
              "  }\n",
              "\n",
              "  .colab-df-spinner {\n",
              "    border: 2px solid var(--fill-color);\n",
              "    border-color: transparent;\n",
              "    border-bottom-color: var(--fill-color);\n",
              "    animation:\n",
              "      spin 1s steps(1) infinite;\n",
              "  }\n",
              "\n",
              "  @keyframes spin {\n",
              "    0% {\n",
              "      border-color: transparent;\n",
              "      border-bottom-color: var(--fill-color);\n",
              "      border-left-color: var(--fill-color);\n",
              "    }\n",
              "    20% {\n",
              "      border-color: transparent;\n",
              "      border-left-color: var(--fill-color);\n",
              "      border-top-color: var(--fill-color);\n",
              "    }\n",
              "    30% {\n",
              "      border-color: transparent;\n",
              "      border-left-color: var(--fill-color);\n",
              "      border-top-color: var(--fill-color);\n",
              "      border-right-color: var(--fill-color);\n",
              "    }\n",
              "    40% {\n",
              "      border-color: transparent;\n",
              "      border-right-color: var(--fill-color);\n",
              "      border-top-color: var(--fill-color);\n",
              "    }\n",
              "    60% {\n",
              "      border-color: transparent;\n",
              "      border-right-color: var(--fill-color);\n",
              "    }\n",
              "    80% {\n",
              "      border-color: transparent;\n",
              "      border-right-color: var(--fill-color);\n",
              "      border-bottom-color: var(--fill-color);\n",
              "    }\n",
              "    90% {\n",
              "      border-color: transparent;\n",
              "      border-bottom-color: var(--fill-color);\n",
              "    }\n",
              "  }\n",
              "</style>\n",
              "\n",
              "  <script>\n",
              "    async function quickchart(key) {\n",
              "      const quickchartButtonEl =\n",
              "        document.querySelector('#' + key + ' button');\n",
              "      quickchartButtonEl.disabled = true;  // To prevent multiple clicks.\n",
              "      quickchartButtonEl.classList.add('colab-df-spinner');\n",
              "      try {\n",
              "        const charts = await google.colab.kernel.invokeFunction(\n",
              "            'suggestCharts', [key], {});\n",
              "      } catch (error) {\n",
              "        console.error('Error during call to suggestCharts:', error);\n",
              "      }\n",
              "      quickchartButtonEl.classList.remove('colab-df-spinner');\n",
              "      quickchartButtonEl.classList.add('colab-df-quickchart-complete');\n",
              "    }\n",
              "    (() => {\n",
              "      let quickchartButtonEl =\n",
              "        document.querySelector('#df-5d09d029-481c-4f68-b623-05767896c925 button');\n",
              "      quickchartButtonEl.style.display =\n",
              "        google.colab.kernel.accessAllowed ? 'block' : 'none';\n",
              "    })();\n",
              "  </script>\n",
              "</div>\n",
              "\n",
              "    </div>\n",
              "  </div>\n"
            ],
            "application/vnd.google.colaboratory.intrinsic+json": {
              "type": "dataframe",
              "repr_error": "0"
            }
          },
          "metadata": {},
          "execution_count": 4
        }
      ],
      "source": [
        "df = pd.read_csv(\"/kaggle/input/sentiment140/training.1600000.processed.noemoticon.csv\", encoding='ISO-8859-1')\n",
        "df.sample(100)"
      ]
    },
    {
      "cell_type": "code",
      "execution_count": 5,
      "metadata": {
        "colab": {
          "base_uri": "https://localhost:8080/"
        },
        "id": "Es6W6L4n3zZG",
        "outputId": "15675964-b221-4c9b-a61f-989b172f5b4d"
      },
      "outputs": [
        {
          "output_type": "execute_result",
          "data": {
            "text/plain": [
              "(1599999, 6)"
            ]
          },
          "metadata": {},
          "execution_count": 5
        }
      ],
      "source": [
        "df.shape"
      ]
    },
    {
      "cell_type": "code",
      "execution_count": 6,
      "metadata": {
        "colab": {
          "base_uri": "https://localhost:8080/",
          "height": 424
        },
        "id": "s6UVNa3s33KE",
        "outputId": "2473af8a-b070-47bf-86ff-5b962272e4d4"
      },
      "outputs": [
        {
          "output_type": "execute_result",
          "data": {
            "text/plain": [
              "         target          id                          date      flag  \\\n",
              "389291        0  2054423075  Sat Jun 06 07:19:11 PDT 2009  NO_QUERY   \n",
              "1102025       4  1970814188  Sat May 30 05:18:16 PDT 2009  NO_QUERY   \n",
              "106939        0  1823753822  Sat May 16 22:52:51 PDT 2009  NO_QUERY   \n",
              "627869        0  2231072163  Thu Jun 18 18:00:26 PDT 2009  NO_QUERY   \n",
              "272246        0  1990163789  Mon Jun 01 04:04:35 PDT 2009  NO_QUERY   \n",
              "...         ...         ...                           ...       ...   \n",
              "1311225       4  2013444291  Tue Jun 02 22:41:26 PDT 2009  NO_QUERY   \n",
              "1256850       4  1997562925  Mon Jun 01 17:04:05 PDT 2009  NO_QUERY   \n",
              "762839        0  2298069077  Tue Jun 23 11:13:05 PDT 2009  NO_QUERY   \n",
              "797408        0  2328155157  Thu Jun 25 09:14:10 PDT 2009  NO_QUERY   \n",
              "1240974       4  1993905380  Mon Jun 01 11:06:40 PDT 2009  NO_QUERY   \n",
              "\n",
              "                    user                                               text  \n",
              "389291          LPJayJay  cleaning up, packing up the van, and heading h...  \n",
              "1102025      meganneill8                       going into town with sophie   \n",
              "106939   djswiftofficial  @ckdub lmao, i want one i just dont kno what t...  \n",
              "627869      QuaLLyWood89  Saw Ms Hill bka &quot;Keenyas sister&quot; on ...  \n",
              "272246    CatherineRoyle  This day last year Croke Park 08.. Wat an amaz...  \n",
              "...                  ...                                                ...  \n",
              "1311225    timecommander  @TrinaMb thats what i was shooting for with th...  \n",
              "1256850           mandrz  Just got hit with a water balloon by my son! S...  \n",
              "762839        snipeyhead  @abraham LOL I totally feel you on that. My la...  \n",
              "797408     whoaitsgabby7                      you're not the same anymore.   \n",
              "1240974         MissD757  @_MiKaL_ LMAO Zip it Mik!! :-P Aren't I always...  \n",
              "\n",
              "[100 rows x 6 columns]"
            ],
            "text/html": [
              "\n",
              "  <div id=\"df-4df6fcb2-99ad-42e3-8576-d7d3874a33d8\" class=\"colab-df-container\">\n",
              "    <div>\n",
              "<style scoped>\n",
              "    .dataframe tbody tr th:only-of-type {\n",
              "        vertical-align: middle;\n",
              "    }\n",
              "\n",
              "    .dataframe tbody tr th {\n",
              "        vertical-align: top;\n",
              "    }\n",
              "\n",
              "    .dataframe thead th {\n",
              "        text-align: right;\n",
              "    }\n",
              "</style>\n",
              "<table border=\"1\" class=\"dataframe\">\n",
              "  <thead>\n",
              "    <tr style=\"text-align: right;\">\n",
              "      <th></th>\n",
              "      <th>target</th>\n",
              "      <th>id</th>\n",
              "      <th>date</th>\n",
              "      <th>flag</th>\n",
              "      <th>user</th>\n",
              "      <th>text</th>\n",
              "    </tr>\n",
              "  </thead>\n",
              "  <tbody>\n",
              "    <tr>\n",
              "      <th>389291</th>\n",
              "      <td>0</td>\n",
              "      <td>2054423075</td>\n",
              "      <td>Sat Jun 06 07:19:11 PDT 2009</td>\n",
              "      <td>NO_QUERY</td>\n",
              "      <td>LPJayJay</td>\n",
              "      <td>cleaning up, packing up the van, and heading h...</td>\n",
              "    </tr>\n",
              "    <tr>\n",
              "      <th>1102025</th>\n",
              "      <td>4</td>\n",
              "      <td>1970814188</td>\n",
              "      <td>Sat May 30 05:18:16 PDT 2009</td>\n",
              "      <td>NO_QUERY</td>\n",
              "      <td>meganneill8</td>\n",
              "      <td>going into town with sophie</td>\n",
              "    </tr>\n",
              "    <tr>\n",
              "      <th>106939</th>\n",
              "      <td>0</td>\n",
              "      <td>1823753822</td>\n",
              "      <td>Sat May 16 22:52:51 PDT 2009</td>\n",
              "      <td>NO_QUERY</td>\n",
              "      <td>djswiftofficial</td>\n",
              "      <td>@ckdub lmao, i want one i just dont kno what t...</td>\n",
              "    </tr>\n",
              "    <tr>\n",
              "      <th>627869</th>\n",
              "      <td>0</td>\n",
              "      <td>2231072163</td>\n",
              "      <td>Thu Jun 18 18:00:26 PDT 2009</td>\n",
              "      <td>NO_QUERY</td>\n",
              "      <td>QuaLLyWood89</td>\n",
              "      <td>Saw Ms Hill bka &amp;quot;Keenyas sister&amp;quot; on ...</td>\n",
              "    </tr>\n",
              "    <tr>\n",
              "      <th>272246</th>\n",
              "      <td>0</td>\n",
              "      <td>1990163789</td>\n",
              "      <td>Mon Jun 01 04:04:35 PDT 2009</td>\n",
              "      <td>NO_QUERY</td>\n",
              "      <td>CatherineRoyle</td>\n",
              "      <td>This day last year Croke Park 08.. Wat an amaz...</td>\n",
              "    </tr>\n",
              "    <tr>\n",
              "      <th>...</th>\n",
              "      <td>...</td>\n",
              "      <td>...</td>\n",
              "      <td>...</td>\n",
              "      <td>...</td>\n",
              "      <td>...</td>\n",
              "      <td>...</td>\n",
              "    </tr>\n",
              "    <tr>\n",
              "      <th>1311225</th>\n",
              "      <td>4</td>\n",
              "      <td>2013444291</td>\n",
              "      <td>Tue Jun 02 22:41:26 PDT 2009</td>\n",
              "      <td>NO_QUERY</td>\n",
              "      <td>timecommander</td>\n",
              "      <td>@TrinaMb thats what i was shooting for with th...</td>\n",
              "    </tr>\n",
              "    <tr>\n",
              "      <th>1256850</th>\n",
              "      <td>4</td>\n",
              "      <td>1997562925</td>\n",
              "      <td>Mon Jun 01 17:04:05 PDT 2009</td>\n",
              "      <td>NO_QUERY</td>\n",
              "      <td>mandrz</td>\n",
              "      <td>Just got hit with a water balloon by my son! S...</td>\n",
              "    </tr>\n",
              "    <tr>\n",
              "      <th>762839</th>\n",
              "      <td>0</td>\n",
              "      <td>2298069077</td>\n",
              "      <td>Tue Jun 23 11:13:05 PDT 2009</td>\n",
              "      <td>NO_QUERY</td>\n",
              "      <td>snipeyhead</td>\n",
              "      <td>@abraham LOL I totally feel you on that. My la...</td>\n",
              "    </tr>\n",
              "    <tr>\n",
              "      <th>797408</th>\n",
              "      <td>0</td>\n",
              "      <td>2328155157</td>\n",
              "      <td>Thu Jun 25 09:14:10 PDT 2009</td>\n",
              "      <td>NO_QUERY</td>\n",
              "      <td>whoaitsgabby7</td>\n",
              "      <td>you're not the same anymore.</td>\n",
              "    </tr>\n",
              "    <tr>\n",
              "      <th>1240974</th>\n",
              "      <td>4</td>\n",
              "      <td>1993905380</td>\n",
              "      <td>Mon Jun 01 11:06:40 PDT 2009</td>\n",
              "      <td>NO_QUERY</td>\n",
              "      <td>MissD757</td>\n",
              "      <td>@_MiKaL_ LMAO Zip it Mik!! :-P Aren't I always...</td>\n",
              "    </tr>\n",
              "  </tbody>\n",
              "</table>\n",
              "<p>100 rows × 6 columns</p>\n",
              "</div>\n",
              "    <div class=\"colab-df-buttons\">\n",
              "\n",
              "  <div class=\"colab-df-container\">\n",
              "    <button class=\"colab-df-convert\" onclick=\"convertToInteractive('df-4df6fcb2-99ad-42e3-8576-d7d3874a33d8')\"\n",
              "            title=\"Convert this dataframe to an interactive table.\"\n",
              "            style=\"display:none;\">\n",
              "\n",
              "  <svg xmlns=\"http://www.w3.org/2000/svg\" height=\"24px\" viewBox=\"0 -960 960 960\">\n",
              "    <path d=\"M120-120v-720h720v720H120Zm60-500h600v-160H180v160Zm220 220h160v-160H400v160Zm0 220h160v-160H400v160ZM180-400h160v-160H180v160Zm440 0h160v-160H620v160ZM180-180h160v-160H180v160Zm440 0h160v-160H620v160Z\"/>\n",
              "  </svg>\n",
              "    </button>\n",
              "\n",
              "  <style>\n",
              "    .colab-df-container {\n",
              "      display:flex;\n",
              "      gap: 12px;\n",
              "    }\n",
              "\n",
              "    .colab-df-convert {\n",
              "      background-color: #E8F0FE;\n",
              "      border: none;\n",
              "      border-radius: 50%;\n",
              "      cursor: pointer;\n",
              "      display: none;\n",
              "      fill: #1967D2;\n",
              "      height: 32px;\n",
              "      padding: 0 0 0 0;\n",
              "      width: 32px;\n",
              "    }\n",
              "\n",
              "    .colab-df-convert:hover {\n",
              "      background-color: #E2EBFA;\n",
              "      box-shadow: 0px 1px 2px rgba(60, 64, 67, 0.3), 0px 1px 3px 1px rgba(60, 64, 67, 0.15);\n",
              "      fill: #174EA6;\n",
              "    }\n",
              "\n",
              "    .colab-df-buttons div {\n",
              "      margin-bottom: 4px;\n",
              "    }\n",
              "\n",
              "    [theme=dark] .colab-df-convert {\n",
              "      background-color: #3B4455;\n",
              "      fill: #D2E3FC;\n",
              "    }\n",
              "\n",
              "    [theme=dark] .colab-df-convert:hover {\n",
              "      background-color: #434B5C;\n",
              "      box-shadow: 0px 1px 3px 1px rgba(0, 0, 0, 0.15);\n",
              "      filter: drop-shadow(0px 1px 2px rgba(0, 0, 0, 0.3));\n",
              "      fill: #FFFFFF;\n",
              "    }\n",
              "  </style>\n",
              "\n",
              "    <script>\n",
              "      const buttonEl =\n",
              "        document.querySelector('#df-4df6fcb2-99ad-42e3-8576-d7d3874a33d8 button.colab-df-convert');\n",
              "      buttonEl.style.display =\n",
              "        google.colab.kernel.accessAllowed ? 'block' : 'none';\n",
              "\n",
              "      async function convertToInteractive(key) {\n",
              "        const element = document.querySelector('#df-4df6fcb2-99ad-42e3-8576-d7d3874a33d8');\n",
              "        const dataTable =\n",
              "          await google.colab.kernel.invokeFunction('convertToInteractive',\n",
              "                                                    [key], {});\n",
              "        if (!dataTable) return;\n",
              "\n",
              "        const docLinkHtml = 'Like what you see? Visit the ' +\n",
              "          '<a target=\"_blank\" href=https://colab.research.google.com/notebooks/data_table.ipynb>data table notebook</a>'\n",
              "          + ' to learn more about interactive tables.';\n",
              "        element.innerHTML = '';\n",
              "        dataTable['output_type'] = 'display_data';\n",
              "        await google.colab.output.renderOutput(dataTable, element);\n",
              "        const docLink = document.createElement('div');\n",
              "        docLink.innerHTML = docLinkHtml;\n",
              "        element.appendChild(docLink);\n",
              "      }\n",
              "    </script>\n",
              "  </div>\n",
              "\n",
              "\n",
              "<div id=\"df-ad2558af-23e6-4d7d-995b-e0366574cecf\">\n",
              "  <button class=\"colab-df-quickchart\" onclick=\"quickchart('df-ad2558af-23e6-4d7d-995b-e0366574cecf')\"\n",
              "            title=\"Suggest charts\"\n",
              "            style=\"display:none;\">\n",
              "\n",
              "<svg xmlns=\"http://www.w3.org/2000/svg\" height=\"24px\"viewBox=\"0 0 24 24\"\n",
              "     width=\"24px\">\n",
              "    <g>\n",
              "        <path d=\"M19 3H5c-1.1 0-2 .9-2 2v14c0 1.1.9 2 2 2h14c1.1 0 2-.9 2-2V5c0-1.1-.9-2-2-2zM9 17H7v-7h2v7zm4 0h-2V7h2v10zm4 0h-2v-4h2v4z\"/>\n",
              "    </g>\n",
              "</svg>\n",
              "  </button>\n",
              "\n",
              "<style>\n",
              "  .colab-df-quickchart {\n",
              "      --bg-color: #E8F0FE;\n",
              "      --fill-color: #1967D2;\n",
              "      --hover-bg-color: #E2EBFA;\n",
              "      --hover-fill-color: #174EA6;\n",
              "      --disabled-fill-color: #AAA;\n",
              "      --disabled-bg-color: #DDD;\n",
              "  }\n",
              "\n",
              "  [theme=dark] .colab-df-quickchart {\n",
              "      --bg-color: #3B4455;\n",
              "      --fill-color: #D2E3FC;\n",
              "      --hover-bg-color: #434B5C;\n",
              "      --hover-fill-color: #FFFFFF;\n",
              "      --disabled-bg-color: #3B4455;\n",
              "      --disabled-fill-color: #666;\n",
              "  }\n",
              "\n",
              "  .colab-df-quickchart {\n",
              "    background-color: var(--bg-color);\n",
              "    border: none;\n",
              "    border-radius: 50%;\n",
              "    cursor: pointer;\n",
              "    display: none;\n",
              "    fill: var(--fill-color);\n",
              "    height: 32px;\n",
              "    padding: 0;\n",
              "    width: 32px;\n",
              "  }\n",
              "\n",
              "  .colab-df-quickchart:hover {\n",
              "    background-color: var(--hover-bg-color);\n",
              "    box-shadow: 0 1px 2px rgba(60, 64, 67, 0.3), 0 1px 3px 1px rgba(60, 64, 67, 0.15);\n",
              "    fill: var(--button-hover-fill-color);\n",
              "  }\n",
              "\n",
              "  .colab-df-quickchart-complete:disabled,\n",
              "  .colab-df-quickchart-complete:disabled:hover {\n",
              "    background-color: var(--disabled-bg-color);\n",
              "    fill: var(--disabled-fill-color);\n",
              "    box-shadow: none;\n",
              "  }\n",
              "\n",
              "  .colab-df-spinner {\n",
              "    border: 2px solid var(--fill-color);\n",
              "    border-color: transparent;\n",
              "    border-bottom-color: var(--fill-color);\n",
              "    animation:\n",
              "      spin 1s steps(1) infinite;\n",
              "  }\n",
              "\n",
              "  @keyframes spin {\n",
              "    0% {\n",
              "      border-color: transparent;\n",
              "      border-bottom-color: var(--fill-color);\n",
              "      border-left-color: var(--fill-color);\n",
              "    }\n",
              "    20% {\n",
              "      border-color: transparent;\n",
              "      border-left-color: var(--fill-color);\n",
              "      border-top-color: var(--fill-color);\n",
              "    }\n",
              "    30% {\n",
              "      border-color: transparent;\n",
              "      border-left-color: var(--fill-color);\n",
              "      border-top-color: var(--fill-color);\n",
              "      border-right-color: var(--fill-color);\n",
              "    }\n",
              "    40% {\n",
              "      border-color: transparent;\n",
              "      border-right-color: var(--fill-color);\n",
              "      border-top-color: var(--fill-color);\n",
              "    }\n",
              "    60% {\n",
              "      border-color: transparent;\n",
              "      border-right-color: var(--fill-color);\n",
              "    }\n",
              "    80% {\n",
              "      border-color: transparent;\n",
              "      border-right-color: var(--fill-color);\n",
              "      border-bottom-color: var(--fill-color);\n",
              "    }\n",
              "    90% {\n",
              "      border-color: transparent;\n",
              "      border-bottom-color: var(--fill-color);\n",
              "    }\n",
              "  }\n",
              "</style>\n",
              "\n",
              "  <script>\n",
              "    async function quickchart(key) {\n",
              "      const quickchartButtonEl =\n",
              "        document.querySelector('#' + key + ' button');\n",
              "      quickchartButtonEl.disabled = true;  // To prevent multiple clicks.\n",
              "      quickchartButtonEl.classList.add('colab-df-spinner');\n",
              "      try {\n",
              "        const charts = await google.colab.kernel.invokeFunction(\n",
              "            'suggestCharts', [key], {});\n",
              "      } catch (error) {\n",
              "        console.error('Error during call to suggestCharts:', error);\n",
              "      }\n",
              "      quickchartButtonEl.classList.remove('colab-df-spinner');\n",
              "      quickchartButtonEl.classList.add('colab-df-quickchart-complete');\n",
              "    }\n",
              "    (() => {\n",
              "      let quickchartButtonEl =\n",
              "        document.querySelector('#df-ad2558af-23e6-4d7d-995b-e0366574cecf button');\n",
              "      quickchartButtonEl.style.display =\n",
              "        google.colab.kernel.accessAllowed ? 'block' : 'none';\n",
              "    })();\n",
              "  </script>\n",
              "</div>\n",
              "\n",
              "    </div>\n",
              "  </div>\n"
            ],
            "application/vnd.google.colaboratory.intrinsic+json": {
              "type": "dataframe",
              "repr_error": "0"
            }
          },
          "metadata": {},
          "execution_count": 6
        }
      ],
      "source": [
        "columns=['target','id','date','flag','user','text']\n",
        "df = pd.read_csv(\"/kaggle/input/sentiment140/training.1600000.processed.noemoticon.csv\",names=columns, encoding='ISO-8859-1')\n",
        "df.sample(100)"
      ]
    },
    {
      "cell_type": "markdown",
      "metadata": {
        "id": "k2QDfi2dWWFK"
      },
      "source": [
        "\n",
        "\n",
        "## **1.3** Dataset Visualization"
      ]
    },
    {
      "cell_type": "code",
      "execution_count": 7,
      "metadata": {
        "colab": {
          "base_uri": "https://localhost:8080/"
        },
        "id": "t6fkJovmfpYw",
        "outputId": "9164b221-6e01-49e0-ae32-b15b47cec1b7"
      },
      "outputs": [
        {
          "output_type": "stream",
          "name": "stdout",
          "text": [
            "1600000\n"
          ]
        }
      ],
      "source": [
        "print(len(df))"
      ]
    },
    {
      "cell_type": "code",
      "execution_count": 8,
      "metadata": {
        "colab": {
          "base_uri": "https://localhost:8080/",
          "height": 272
        },
        "id": "bVCrryWR4Lbc",
        "outputId": "2b9b106a-e1bf-476e-8c5c-4724ad10ed89"
      },
      "outputs": [
        {
          "output_type": "execute_result",
          "data": {
            "text/plain": [
              "target    0\n",
              "id        0\n",
              "date      0\n",
              "flag      0\n",
              "user      0\n",
              "text      0\n",
              "dtype: int64"
            ],
            "text/html": [
              "<div>\n",
              "<style scoped>\n",
              "    .dataframe tbody tr th:only-of-type {\n",
              "        vertical-align: middle;\n",
              "    }\n",
              "\n",
              "    .dataframe tbody tr th {\n",
              "        vertical-align: top;\n",
              "    }\n",
              "\n",
              "    .dataframe thead th {\n",
              "        text-align: right;\n",
              "    }\n",
              "</style>\n",
              "<table border=\"1\" class=\"dataframe\">\n",
              "  <thead>\n",
              "    <tr style=\"text-align: right;\">\n",
              "      <th></th>\n",
              "      <th>0</th>\n",
              "    </tr>\n",
              "  </thead>\n",
              "  <tbody>\n",
              "    <tr>\n",
              "      <th>target</th>\n",
              "      <td>0</td>\n",
              "    </tr>\n",
              "    <tr>\n",
              "      <th>id</th>\n",
              "      <td>0</td>\n",
              "    </tr>\n",
              "    <tr>\n",
              "      <th>date</th>\n",
              "      <td>0</td>\n",
              "    </tr>\n",
              "    <tr>\n",
              "      <th>flag</th>\n",
              "      <td>0</td>\n",
              "    </tr>\n",
              "    <tr>\n",
              "      <th>user</th>\n",
              "      <td>0</td>\n",
              "    </tr>\n",
              "    <tr>\n",
              "      <th>text</th>\n",
              "      <td>0</td>\n",
              "    </tr>\n",
              "  </tbody>\n",
              "</table>\n",
              "</div><br><label><b>dtype:</b> int64</label>"
            ]
          },
          "metadata": {},
          "execution_count": 8
        }
      ],
      "source": [
        "df.isnull().sum()\n"
      ]
    },
    {
      "cell_type": "markdown",
      "metadata": {
        "id": "QDpxKjeZQcKE"
      },
      "source": [
        "###  **1.3.1** Matplotlib</h4>"
      ]
    },
    {
      "cell_type": "code",
      "execution_count": 9,
      "metadata": {
        "id": "Fb79SIovB06O"
      },
      "outputs": [],
      "source": [
        "import matplotlib.pyplot as plt"
      ]
    },
    {
      "cell_type": "code",
      "execution_count": 10,
      "metadata": {
        "colab": {
          "base_uri": "https://localhost:8080/",
          "height": 406
        },
        "id": "6LM09-7pwrYD",
        "outputId": "ed2cda49-3cdb-43ba-ebdd-e7d009942711"
      },
      "outputs": [
        {
          "output_type": "display_data",
          "data": {
            "text/plain": [
              "<Figure size 640x480 with 1 Axes>"
            ],
            "image/png": "[encoded data removed]"
          },
          "metadata": {}
        }
      ],
      "source": [
        "sentiment_count = df[\"target\"].value_counts()\n",
        "plt.pie(sentiment_count, labels=sentiment_count.index,\n",
        "        autopct='%1.1f%%', shadow=True, startangle=140)\n",
        "plt.show()"
      ]
    },
    {
      "cell_type": "code",
      "execution_count": 11,
      "metadata": {
        "colab": {
          "base_uri": "https://localhost:8080/"
        },
        "id": "s8xedP0X3xt5",
        "outputId": "bd1d8600-3146-46ed-94eb-dd1171366440"
      },
      "outputs": [
        {
          "output_type": "stream",
          "name": "stdout",
          "text": [
            "Index(['target', 'id', 'date', 'flag', 'user', 'text'], dtype='object')\n"
          ]
        }
      ],
      "source": [
        "print(df.columns)"
      ]
    },
    {
      "cell_type": "code",
      "execution_count": 12,
      "metadata": {
        "colab": {
          "base_uri": "https://localhost:8080/"
        },
        "id": "ya7k2TcylAbp",
        "outputId": "13037202-7eaa-450d-c403-eee139879a0f"
      },
      "outputs": [
        {
          "output_type": "stream",
          "name": "stdout",
          "text": [
            "target\n",
            "0    800000\n",
            "4    800000\n",
            "Name: count, dtype: int64\n"
          ]
        }
      ],
      "source": [
        "sentiment_count = df[\"target\"].value_counts()\n",
        "\n",
        "print(sentiment_count)"
      ]
    },
    {
      "cell_type": "code",
      "execution_count": 13,
      "metadata": {
        "colab": {
          "base_uri": "https://localhost:8080/"
        },
        "id": "MlwWqCohC87z",
        "outputId": "b4cf0698-c5f0-4489-e166-bc6a9ec0a295"
      },
      "outputs": [
        {
          "output_type": "stream",
          "name": "stdout",
          "text": [
            "Number of + tweets: 800000\n",
            "Number of - tweets: 800000\n",
            "Number of neutral tweets: 0\n"
          ]
        }
      ],
      "source": [
        "print(f\"Number of + tweets: {df[df['target'] == 0].shape[0]}\")\n",
        "print(f\"Number of - tweets: {df[df['target'] == 4].shape[0]}\")\n",
        "print(f\"Number of neutral tweets: {df[df['target'] == 2].shape[0]}\")\n"
      ]
    },
    {
      "cell_type": "markdown",
      "metadata": {
        "id": "jYxmPalU4aOl"
      },
      "source": [
        "remplace 4 by 1  inpositive sentiment"
      ]
    },
    {
      "cell_type": "code",
      "execution_count": 14,
      "metadata": {
        "colab": {
          "base_uri": "https://localhost:8080/"
        },
        "id": "rQz4n9884eI9",
        "outputId": "ca470e68-7888-4ca7-c164-c7ca13fbbf68"
      },
      "outputs": [
        {
          "output_type": "stream",
          "name": "stdout",
          "text": [
            "Number of + tweets: 800000\n",
            "Number of - tweets: 800000\n",
            "Number of neutral tweets: 0\n"
          ]
        }
      ],
      "source": [
        "df.replace({'target': {4: 1}}, inplace=True)\n",
        "# Assuming 'label' is an integer column\n",
        "print(f\"Number of + tweets: {df[df['target'] == 0].shape[0]}\")\n",
        "print(f\"Number of - tweets: {df[df['target'] == 1].shape[0]}\")\n",
        "print(f\"Number of neutral tweets: {df[df['target'] == 2].shape[0]}\")"
      ]
    },
    {
      "cell_type": "code",
      "execution_count": 15,
      "metadata": {
        "colab": {
          "base_uri": "https://localhost:8080/"
        },
        "id": "TgnRM8Su3PiH",
        "outputId": "1e903a66-92b5-480c-ae9b-b2b9ef4dc951"
      },
      "outputs": [
        {
          "output_type": "stream",
          "name": "stdout",
          "text": [
            "target\n",
            "0    800000\n",
            "1    800000\n",
            "Name: count, dtype: int64\n"
          ]
        }
      ],
      "source": [
        "sentiment_count = df[\"target\"].value_counts()\n",
        "\n",
        "print(sentiment_count)"
      ]
    },
    {
      "cell_type": "code",
      "execution_count": 16,
      "metadata": {
        "colab": {
          "base_uri": "https://localhost:8080/",
          "height": 406
        },
        "id": "3hs_mQexSej9",
        "outputId": "c1715f1b-b48e-4f43-fae7-b930833b6215"
      },
      "outputs": [
        {
          "output_type": "display_data",
          "data": {
            "text/plain": [
              "<Figure size 640x480 with 1 Axes>"
            ],
            "image/png": "[encoded data removed]"
          },
          "metadata": {}
        }
      ],
      "source": [
        "sentiment_count = df[\"target\"].value_counts()\n",
        "plt.pie(sentiment_count, labels=sentiment_count.index,\n",
        "        autopct='%1.1f%%', shadow=True, startangle=140)\n",
        "plt.show()"
      ]
    },
    {
      "cell_type": "markdown",
      "metadata": {
        "id": "jcXAMS4bQjGM"
      },
      "source": [
        "### **1.3.2** Wordclouds"
      ]
    },
    {
      "cell_type": "markdown",
      "metadata": {
        "id": "vTIV2ElsBhZk"
      },
      "source": [
        "* The `Wordclouds` package is very useful to get a quick overview of most recurrent words in the text corpus"
      ]
    },
    {
      "cell_type": "code",
      "execution_count": 17,
      "metadata": {
        "colab": {
          "base_uri": "https://localhost:8080/"
        },
        "id": "wrhVfCeSxP1R",
        "outputId": "b5d8b826-ed37-47bc-ec9d-1acfe4ceec32"
      },
      "outputs": [
        {
          "output_type": "stream",
          "name": "stdout",
          "text": [
            "Collecting wordcloud\n",
            "  Downloading wordcloud-1.9.4-cp311-cp311-manylinux_2_17_x86_64.manylinux2014_x86_64.whl.metadata (3.4 kB)\n",
            "Requirement already satisfied: numpy>=1.6.1 in /usr/local/lib/python3.11/dist-packages (from wordcloud) (2.0.2)\n",
            "Requirement already satisfied: pillow in /usr/local/lib/python3.11/dist-packages (from wordcloud) (11.1.0)\n",
            "Requirement already satisfied: matplotlib in /usr/local/lib/python3.11/dist-packages (from wordcloud) (3.10.0)\n",
            "Requirement already satisfied: contourpy>=1.0.1 in /usr/local/lib/python3.11/dist-packages (from matplotlib->wordcloud) (1.3.1)\n",
            "Requirement already satisfied: cycler>=0.10 in /usr/local/lib/python3.11/dist-packages (from matplotlib->wordcloud) (0.12.1)\n",
            "Requirement already satisfied: fonttools>=4.22.0 in /usr/local/lib/python3.11/dist-packages (from matplotlib->wordcloud) (4.57.0)\n",
            "Requirement already satisfied: kiwisolver>=1.3.1 in /usr/local/lib/python3.11/dist-packages (from matplotlib->wordcloud) (1.4.8)\n",
            "Requirement already satisfied: packaging>=20.0 in /usr/local/lib/python3.11/dist-packages (from matplotlib->wordcloud) (24.2)\n",
            "Requirement already satisfied: pyparsing>=2.3.1 in /usr/local/lib/python3.11/dist-packages (from matplotlib->wordcloud) (3.2.3)\n",
            "Requirement already satisfied: python-dateutil>=2.7 in /usr/local/lib/python3.11/dist-packages (from matplotlib->wordcloud) (2.9.0.post0)\n",
            "Requirement already satisfied: six>=1.5 in /usr/local/lib/python3.11/dist-packages (from python-dateutil>=2.7->matplotlib->wordcloud) (1.17.0)\n",
            "Downloading wordcloud-1.9.4-cp311-cp311-manylinux_2_17_x86_64.manylinux2014_x86_64.whl (547 kB)\n",
            "\u001b[2K   \u001b[90m━━━━━━━━━━━━━━━━━━━━━━━━━━━━━━━━━━━━━━━━\u001b[0m \u001b[32m547.9/547.9 kB\u001b[0m \u001b[31m8.7 MB/s\u001b[0m eta \u001b[36m0:00:00\u001b[0m\n",
            "\u001b[?25hInstalling collected packages: wordcloud\n",
            "Successfully installed wordcloud-1.9.4\n"
          ]
        }
      ],
      "source": [
        "!pip install wordcloud\n"
      ]
    },
    {
      "cell_type": "code",
      "execution_count": 18,
      "metadata": {
        "id": "LiME9k4uBxix"
      },
      "outputs": [],
      "source": [
        "from wordcloud import WordCloud"
      ]
    },
    {
      "cell_type": "markdown",
      "metadata": {
        "id": "Stf9-UtnNloU"
      },
      "source": [
        "* What are the words most often present in positive tweets?"
      ]
    },
    {
      "cell_type": "code",
      "execution_count": 19,
      "metadata": {
        "colab": {
          "base_uri": "https://localhost:8080/",
          "height": 754
        },
        "id": "fW3YNWHwwYdP",
        "outputId": "c7be13f2-aceb-4544-8983-b115c82db49e"
      },
      "outputs": [
        {
          "output_type": "stream",
          "name": "stdout",
          "text": [
            "         target          id                          date      flag  \\\n",
            "800000        1  1467822272  Mon Apr 06 22:22:45 PDT 2009  NO_QUERY   \n",
            "800001        1  1467822273  Mon Apr 06 22:22:45 PDT 2009  NO_QUERY   \n",
            "800002        1  1467822283  Mon Apr 06 22:22:46 PDT 2009  NO_QUERY   \n",
            "800003        1  1467822287  Mon Apr 06 22:22:46 PDT 2009  NO_QUERY   \n",
            "800004        1  1467822293  Mon Apr 06 22:22:46 PDT 2009  NO_QUERY   \n",
            "...         ...         ...                           ...       ...   \n",
            "1599995       1  2193601966  Tue Jun 16 08:40:49 PDT 2009  NO_QUERY   \n",
            "1599996       1  2193601969  Tue Jun 16 08:40:49 PDT 2009  NO_QUERY   \n",
            "1599997       1  2193601991  Tue Jun 16 08:40:49 PDT 2009  NO_QUERY   \n",
            "1599998       1  2193602064  Tue Jun 16 08:40:49 PDT 2009  NO_QUERY   \n",
            "1599999       1  2193602129  Tue Jun 16 08:40:50 PDT 2009  NO_QUERY   \n",
            "\n",
            "                    user                                               text  \n",
            "800000             ersle       I LOVE @Health4UandPets u guys r the best!!   \n",
            "800001          becca210  im meeting up with one of my besties tonight! ...  \n",
            "800002         Wingman29  @DaRealSunisaKim Thanks for the Twitter add, S...  \n",
            "800003         katarinka  Being sick can be really cheap when it hurts t...  \n",
            "800004       _EmilyYoung    @LovesBrooklyn2 he has that effect on everyone   \n",
            "...                  ...                                                ...  \n",
            "1599995  AmandaMarie1028  Just woke up. Having no school is the best fee...  \n",
            "1599996      TheWDBoards  TheWDB.com - Very cool to hear old Walt interv...  \n",
            "1599997           bpbabe  Are you ready for your MoJo Makeover? Ask me f...  \n",
            "1599998     tinydiamondz  Happy 38th Birthday to my boo of alll time!!! ...  \n",
            "1599999   RyanTrevMorris  happy #charitytuesday @theNSPCC @SparksCharity...  \n",
            "\n",
            "[800000 rows x 6 columns]\n"
          ]
        },
        {
          "output_type": "display_data",
          "data": {
            "text/plain": [
              "<Figure size 640x480 with 1 Axes>"
            ],
            "image/png": "[encoded data removed]"
          },
          "metadata": {}
        }
      ],
      "source": [
        "pos_tweets = df[df[\"target\"]==1]\n",
        "# Show the entire filtered DataFrame\n",
        "print(pos_tweets)\n",
        "\n",
        "txt = \" \".join(tweet.lower() for tweet in pos_tweets[\"text\"])\n",
        "wordcloud = WordCloud().generate(txt)\n",
        "plt.imshow(wordcloud, interpolation=\"bilinear\")\n",
        "plt.axis(\"off\")\n",
        "plt.show()"
      ]
    },
    {
      "cell_type": "markdown",
      "metadata": {
        "id": "K7FsFmH6NqWy"
      },
      "source": [
        "* ... and in negative tweets?"
      ]
    },
    {
      "cell_type": "code",
      "execution_count": 20,
      "metadata": {
        "colab": {
          "base_uri": "https://localhost:8080/",
          "height": 754
        },
        "id": "MbHSPX8jE2Jk",
        "outputId": "207d5d9e-d03c-4d68-c2eb-2050c9447c46"
      },
      "outputs": [
        {
          "output_type": "stream",
          "name": "stdout",
          "text": [
            "        target          id                          date      flag  \\\n",
            "0            0  1467810369  Mon Apr 06 22:19:45 PDT 2009  NO_QUERY   \n",
            "1            0  1467810672  Mon Apr 06 22:19:49 PDT 2009  NO_QUERY   \n",
            "2            0  1467810917  Mon Apr 06 22:19:53 PDT 2009  NO_QUERY   \n",
            "3            0  1467811184  Mon Apr 06 22:19:57 PDT 2009  NO_QUERY   \n",
            "4            0  1467811193  Mon Apr 06 22:19:57 PDT 2009  NO_QUERY   \n",
            "...        ...         ...                           ...       ...   \n",
            "799995       0  2329205009  Thu Jun 25 10:28:28 PDT 2009  NO_QUERY   \n",
            "799996       0  2329205038  Thu Jun 25 10:28:28 PDT 2009  NO_QUERY   \n",
            "799997       0  2329205473  Thu Jun 25 10:28:30 PDT 2009  NO_QUERY   \n",
            "799998       0  2329205574  Thu Jun 25 10:28:30 PDT 2009  NO_QUERY   \n",
            "799999       0  2329205794  Thu Jun 25 10:28:31 PDT 2009  NO_QUERY   \n",
            "\n",
            "                   user                                               text  \n",
            "0       _TheSpecialOne_  @switchfoot http://twitpic.com/2y1zl - Awww, t...  \n",
            "1         scotthamilton  is upset that he can't update his Facebook by ...  \n",
            "2              mattycus  @Kenichan I dived many times for the ball. Man...  \n",
            "3               ElleCTF    my whole body feels itchy and like its on fire   \n",
            "4                Karoli  @nationwideclass no, it's not behaving at all....  \n",
            "...                 ...                                                ...  \n",
            "799995         dandykim  Sick  Spending my day laying in bed listening ...  \n",
            "799996          bigenya                                    Gmail is down?   \n",
            "799997         LeeLHoke                      rest in peace Farrah! So sad   \n",
            "799998     davidlmulder  @Eric_Urbane Sounds like a rival is flagging y...  \n",
            "799999       tpchandler  has to resit exams over summer...  wishes he w...  \n",
            "\n",
            "[800000 rows x 6 columns]\n"
          ]
        },
        {
          "output_type": "display_data",
          "data": {
            "text/plain": [
              "<Figure size 640x480 with 1 Axes>"
            ],
            "image/png": "[encoded data removed]"
          },
          "metadata": {}
        }
      ],
      "source": [
        "pos_tweets = df[df[\"target\"]==0]\n",
        "# Show the entire filtered DataFrame\n",
        "print(pos_tweets)\n",
        "\n",
        "txt = \" \".join(tweet.lower() for tweet in pos_tweets[\"text\"])\n",
        "wordcloud = WordCloud().generate(txt)\n",
        "plt.imshow(wordcloud, interpolation=\"bilinear\")\n",
        "plt.axis(\"off\")\n",
        "plt.show()"
      ]
    },
    {
      "cell_type": "markdown",
      "metadata": {
        "id": "WIFAbVfhMvKS"
      },
      "source": [
        "\n",
        "\n",
        "##  2.Text Normalization"
      ]
    },
    {
      "cell_type": "markdown",
      "metadata": {
        "id": "8D9TW-jHaDMY"
      },
      "source": [
        "* Import `regex` package"
      ]
    },
    {
      "cell_type": "code",
      "execution_count": 21,
      "metadata": {
        "id": "qefx0Ad1RFHy"
      },
      "outputs": [],
      "source": [
        "import re"
      ]
    },
    {
      "cell_type": "markdown",
      "metadata": {
        "id": "NaKqk-_gFQQN"
      },
      "source": [
        "###  **2.1** RT Tag"
      ]
    },
    {
      "cell_type": "markdown",
      "metadata": {
        "id": "c5R1W_qw3AZs"
      },
      "source": [
        "* Replace occurences of `RT` with a default value"
      ]
    },
    {
      "cell_type": "code",
      "execution_count": 22,
      "metadata": {
        "id": "RMe1sJQZWBon"
      },
      "outputs": [],
      "source": [
        "def replace_retweet(tweet, default_replace=\"\"):\n",
        "  tweet = re.sub('RT\\s+', default_replace, tweet)\n",
        "  return tweet"
      ]
    },
    {
      "cell_type": "markdown",
      "metadata": {
        "id": "uY48gGm2fgtV"
      },
      "source": [
        "###  **2.2** @User Tag"
      ]
    },
    {
      "cell_type": "markdown",
      "metadata": {
        "id": "Yjn3WP56Dc-O"
      },
      "source": [
        "#### Handle the User Tag"
      ]
    },
    {
      "cell_type": "markdown",
      "metadata": {
        "id": "2DMdteLL3Sq-"
      },
      "source": [
        "* Replace `@_Someone_` with a default user tag"
      ]
    },
    {
      "cell_type": "code",
      "execution_count": 24,
      "metadata": {
        "id": "ODnCCX1ueIwO"
      },
      "outputs": [],
      "source": [
        "import re\n",
        "\n",
        "def replace_user(tweet, default_replace=\"twitteruser\"):\n",
        "    # This regex will match any @username pattern, even at the beginning\n",
        "    tweet = re.sub(r'@\\w+', default_replace, tweet)\n",
        "    return tweet"
      ]
    },
    {
      "cell_type": "markdown",
      "metadata": {
        "id": "QsbZqz2Cn1dB"
      },
      "source": [
        "###  **2.3** Emojis"
      ]
    },
    {
      "cell_type": "markdown",
      "metadata": {
        "id": "xE5IZIx5Gkx4"
      },
      "source": [
        "* Install the `emoji` package"
      ]
    },
    {
      "cell_type": "code",
      "execution_count": 25,
      "metadata": {
        "colab": {
          "base_uri": "https://localhost:8080/"
        },
        "id": "PDtbHjDiiaw7",
        "outputId": "c8e482d3-3aaa-4834-ee23-6822dc6f1c58"
      },
      "outputs": [
        {
          "output_type": "stream",
          "name": "stdout",
          "text": [
            "Collecting emoji\n",
            "  Downloading emoji-2.14.1-py3-none-any.whl.metadata (5.7 kB)\n",
            "Downloading emoji-2.14.1-py3-none-any.whl (590 kB)\n",
            "\u001b[?25l   \u001b[90m━━━━━━━━━━━━━━━━━━━━━━━━━━━━━━━━━━━━━━━━\u001b[0m \u001b[32m0.0/590.6 kB\u001b[0m \u001b[31m?\u001b[0m eta \u001b[36m-:--:--\u001b[0m\r\u001b[2K   \u001b[91m━━━━━━━━━\u001b[0m\u001b[91m╸\u001b[0m\u001b[90m━━━━━━━━━━━━━━━━━━━━━━━━━━━━━━\u001b[0m \u001b[32m143.4/590.6 kB\u001b[0m \u001b[31m4.1 MB/s\u001b[0m eta \u001b[36m0:00:01\u001b[0m\r\u001b[2K   \u001b[91m━━━━━━━━━━━━━━━━━━━━━━━━━━━━━━━━━━━━━━━\u001b[0m\u001b[91m╸\u001b[0m \u001b[32m583.7/590.6 kB\u001b[0m \u001b[31m10.3 MB/s\u001b[0m eta \u001b[36m0:00:01\u001b[0m\r\u001b[2K   \u001b[90m━━━━━━━━━━━━━━━━━━━━━━━━━━━━━━━━━━━━━━━━\u001b[0m \u001b[32m590.6/590.6 kB\u001b[0m \u001b[31m6.5 MB/s\u001b[0m eta \u001b[36m0:00:00\u001b[0m\n",
            "\u001b[?25hInstalling collected packages: emoji\n",
            "Successfully installed emoji-2.14.1\n"
          ]
        }
      ],
      "source": [
        "pip install emoji --upgrade"
      ]
    },
    {
      "cell_type": "code",
      "execution_count": 26,
      "metadata": {
        "id": "T8Ctx6FUiVyc"
      },
      "outputs": [],
      "source": [
        "import emoji"
      ]
    },
    {
      "cell_type": "markdown",
      "metadata": {
        "id": "6pZp0rcEGtH8"
      },
      "source": [
        "* Replace emojis with a meaningful text"
      ]
    },
    {
      "cell_type": "code",
      "execution_count": 27,
      "metadata": {
        "id": "hqHXnwRZn2Ey"
      },
      "outputs": [],
      "source": [
        "def delete_emoji(tweet):\n",
        "  tweet = emoji.demojize(tweet)\n",
        "  return tweet"
      ]
    },
    {
      "cell_type": "markdown",
      "metadata": {
        "id": "oSYc3ax5fk5m"
      },
      "source": [
        "###  **2.4** URL"
      ]
    },
    {
      "cell_type": "markdown",
      "metadata": {
        "id": "1Y1_YIxt5z3d"
      },
      "source": [
        "#### Handle the URL"
      ]
    },
    {
      "cell_type": "markdown",
      "metadata": {
        "id": "gp8E1W-e4QDT"
      },
      "source": [
        "* Replace occurences of `http://` or `https://` with a default value"
      ]
    },
    {
      "cell_type": "code",
      "execution_count": 28,
      "metadata": {
        "id": "0Vq3d5VcfdCc"
      },
      "outputs": [],
      "source": [
        "def replace_url(tweet, default_replace=\"\"):\n",
        "  tweet = re.sub('(http|https):\\/\\/\\S+', default_replace, tweet)\n",
        "  return tweet"
      ]
    },
    {
      "cell_type": "code",
      "execution_count": 29,
      "metadata": {
        "id": "YN2c4pJIy8pX"
      },
      "outputs": [],
      "source": [
        "df['url'] = df['text'].apply(replace_url)"
      ]
    },
    {
      "cell_type": "markdown",
      "metadata": {
        "id": "piKIdmGCimZ1"
      },
      "source": [
        "###  **2.5** Hashtags"
      ]
    },
    {
      "cell_type": "markdown",
      "metadata": {
        "id": "yePSPCRy4WWk"
      },
      "source": [
        "* Replace occurences of `#_something_` with a default value"
      ]
    },
    {
      "cell_type": "code",
      "execution_count": 30,
      "metadata": {
        "id": "yI76Ve3lg3WZ"
      },
      "outputs": [],
      "source": [
        "def replace_hashtag(tweet, default_replace=\"\"):\n",
        "  tweet = re.sub('#+', default_replace, tweet)\n",
        "  return tweet"
      ]
    },
    {
      "cell_type": "markdown",
      "metadata": {
        "id": "VmN1OTYBi8r3"
      },
      "source": [
        "### **2.6** Remove upper capitalization"
      ]
    },
    {
      "cell_type": "markdown",
      "metadata": {
        "id": "noY_ATKH4hcz"
      },
      "source": [
        "* Lower case each letter in a specific tweet"
      ]
    },
    {
      "cell_type": "code",
      "execution_count": 31,
      "metadata": {
        "id": "NXCITDNeQtnE"
      },
      "outputs": [],
      "source": [
        "def to_lowercase(tweet):\n",
        "  tweet = tweet.lower()\n",
        "  return tweet"
      ]
    },
    {
      "cell_type": "markdown",
      "metadata": {
        "id": "fNlZxI4ZS-dX"
      },
      "source": [
        "###  **2.7** Word repetition"
      ]
    },
    {
      "cell_type": "markdown",
      "metadata": {
        "id": "sKkeEGaX4m40"
      },
      "source": [
        "* Replace word repetition with a single occurence (\"oooooo\" becomes \"oo\")"
      ]
    },
    {
      "cell_type": "code",
      "execution_count": 32,
      "metadata": {
        "id": "USLuHaaiS9xm"
      },
      "outputs": [],
      "source": [
        "def word_repetition(tweet):\n",
        "  tweet = re.sub(r'(.)\\1+', r'\\1\\1', tweet)\n",
        "  return tweet"
      ]
    },
    {
      "cell_type": "markdown",
      "metadata": {
        "id": "Qli_4tnBpcr4"
      },
      "source": [
        "###  **2.8** Punctuation repetition"
      ]
    },
    {
      "cell_type": "markdown",
      "metadata": {
        "id": "vQN36n3w4wNA"
      },
      "source": [
        "* Replace punctuation repetition with a single occurence (\"!!!!!\" becomes \"!\")"
      ]
    },
    {
      "cell_type": "code",
      "execution_count": 33,
      "metadata": {
        "id": "w_awIiJ_ngo7"
      },
      "outputs": [],
      "source": [
        "def punct_repetition(tweet, default_replace=\"\"):\n",
        "  tweet = re.sub(r'[\\?\\.\\!]+(?=[\\?\\.\\!])', default_replace, tweet)\n",
        "  return tweet"
      ]
    },
    {
      "cell_type": "markdown",
      "metadata": {
        "id": "mpwgMqIxi6G9"
      },
      "source": [
        "###  **2.9** Word contraction"
      ]
    },
    {
      "cell_type": "markdown",
      "metadata": {
        "id": "Adsu8A-TGFT5"
      },
      "source": [
        "* Install the `contractions` package"
      ]
    },
    {
      "cell_type": "code",
      "execution_count": 34,
      "metadata": {
        "colab": {
          "base_uri": "https://localhost:8080/"
        },
        "id": "wO2Gle7Ey360",
        "outputId": "47d82cff-f86a-4ce2-fa42-37e13b012a36"
      },
      "outputs": [
        {
          "output_type": "stream",
          "name": "stdout",
          "text": [
            "Collecting contractions\n",
            "  Downloading contractions-0.1.73-py2.py3-none-any.whl.metadata (1.2 kB)\n",
            "Collecting textsearch>=0.0.21 (from contractions)\n",
            "  Downloading textsearch-0.0.24-py2.py3-none-any.whl.metadata (1.2 kB)\n",
            "Collecting anyascii (from textsearch>=0.0.21->contractions)\n",
            "  Downloading anyascii-0.3.2-py3-none-any.whl.metadata (1.5 kB)\n",
            "Collecting pyahocorasick (from textsearch>=0.0.21->contractions)\n",
            "  Downloading pyahocorasick-2.1.0-cp311-cp311-manylinux_2_17_x86_64.manylinux2014_x86_64.whl.metadata (13 kB)\n",
            "Downloading contractions-0.1.73-py2.py3-none-any.whl (8.7 kB)\n",
            "Downloading textsearch-0.0.24-py2.py3-none-any.whl (7.6 kB)\n",
            "Downloading anyascii-0.3.2-py3-none-any.whl (289 kB)\n",
            "\u001b[2K   \u001b[90m━━━━━━━━━━━━━━━━━━━━━━━━━━━━━━━━━━━━━━━━\u001b[0m \u001b[32m289.9/289.9 kB\u001b[0m \u001b[31m6.3 MB/s\u001b[0m eta \u001b[36m0:00:00\u001b[0m\n",
            "\u001b[?25hDownloading pyahocorasick-2.1.0-cp311-cp311-manylinux_2_17_x86_64.manylinux2014_x86_64.whl (118 kB)\n",
            "\u001b[2K   \u001b[90m━━━━━━━━━━━━━━━━━━━━━━━━━━━━━━━━━━━━━━━━\u001b[0m \u001b[32m118.3/118.3 kB\u001b[0m \u001b[31m8.4 MB/s\u001b[0m eta \u001b[36m0:00:00\u001b[0m\n",
            "\u001b[?25hInstalling collected packages: pyahocorasick, anyascii, textsearch, contractions\n",
            "Successfully installed anyascii-0.3.2 contractions-0.1.73 pyahocorasick-2.1.0 textsearch-0.0.24\n"
          ]
        }
      ],
      "source": [
        "pip install contractions"
      ]
    },
    {
      "cell_type": "code",
      "execution_count": 35,
      "metadata": {
        "id": "UdkPTEZryzJC"
      },
      "outputs": [],
      "source": [
        "import contractions"
      ]
    },
    {
      "cell_type": "markdown",
      "metadata": {
        "id": "tDGBT323GE1v"
      },
      "source": [
        "* Use `contractions_dict` to list most common contractions"
      ]
    },
    {
      "cell_type": "code",
      "execution_count": 36,
      "metadata": {
        "colab": {
          "base_uri": "https://localhost:8080/"
        },
        "id": "4DwhVxKs1QL_",
        "outputId": "52b0d722-9547-486b-9319-af045afe3afb"
      },
      "outputs": [
        {
          "output_type": "stream",
          "name": "stdout",
          "text": [
            "{\"I'm\": 'I am', \"I'm'a\": 'I am about to', \"I'm'o\": 'I am going to', \"I've\": 'I have', \"I'll\": 'I will', \"I'll've\": 'I will have', \"I'd\": 'I would', \"I'd've\": 'I would have', 'Whatcha': 'What are you', \"amn't\": 'am not', \"ain't\": 'are not', \"aren't\": 'are not', \"'cause\": 'because', \"can't\": 'cannot', \"can't've\": 'cannot have', \"could've\": 'could have', \"couldn't\": 'could not', \"couldn't've\": 'could not have', \"daren't\": 'dare not', \"daresn't\": 'dare not', \"dasn't\": 'dare not', \"didn't\": 'did not', 'didn’t': 'did not', \"don't\": 'do not', 'don’t': 'do not', \"doesn't\": 'does not', \"e'er\": 'ever', \"everyone's\": 'everyone is', 'finna': 'fixing to', 'gimme': 'give me', \"gon't\": 'go not', 'gonna': 'going to', 'gotta': 'got to', \"hadn't\": 'had not', \"hadn't've\": 'had not have', \"hasn't\": 'has not', \"haven't\": 'have not', \"he've\": 'he have', \"he's\": 'he is', \"he'll\": 'he will', \"he'll've\": 'he will have', \"he'd\": 'he would', \"he'd've\": 'he would have', \"here's\": 'here is', \"how're\": 'how are', \"how'd\": 'how did', \"how'd'y\": 'how do you', \"how's\": 'how is', \"how'll\": 'how will', \"isn't\": 'is not', \"it's\": 'it is', \"'tis\": 'it is', \"'twas\": 'it was', \"it'll\": 'it will', \"it'll've\": 'it will have', \"it'd\": 'it would', \"it'd've\": 'it would have', 'kinda': 'kind of', \"let's\": 'let us', 'luv': 'love', \"ma'am\": 'madam', \"may've\": 'may have', \"mayn't\": 'may not', \"might've\": 'might have', \"mightn't\": 'might not', \"mightn't've\": 'might not have', \"must've\": 'must have', \"mustn't\": 'must not', \"mustn't've\": 'must not have', \"needn't\": 'need not', \"needn't've\": 'need not have', \"ne'er\": 'never', \"o'\": 'of', \"o'clock\": 'of the clock', \"ol'\": 'old', \"oughtn't\": 'ought not', \"oughtn't've\": 'ought not have', \"o'er\": 'over', \"shan't\": 'shall not', \"sha'n't\": 'shall not', \"shalln't\": 'shall not', \"shan't've\": 'shall not have', \"she's\": 'she is', \"she'll\": 'she will', \"she'd\": 'she would', \"she'd've\": 'she would have', \"should've\": 'should have', \"shouldn't\": 'should not', \"shouldn't've\": 'should not have', \"so've\": 'so have', \"so's\": 'so is', \"somebody's\": 'somebody is', \"someone's\": 'someone is', \"something's\": 'something is', 'sux': 'sucks', \"that're\": 'that are', \"that's\": 'that is', \"that'll\": 'that will', \"that'd\": 'that would', \"that'd've\": 'that would have', \"'em\": 'them', \"there're\": 'there are', \"there's\": 'there is', \"there'll\": 'there will', \"there'd\": 'there would', \"there'd've\": 'there would have', \"these're\": 'these are', \"they're\": 'they are', \"they've\": 'they have', \"they'll\": 'they will', \"they'll've\": 'they will have', \"they'd\": 'they would', \"they'd've\": 'they would have', \"this's\": 'this is', \"this'll\": 'this will', \"this'd\": 'this would', \"those're\": 'those are', \"to've\": 'to have', 'wanna': 'want to', \"wasn't\": 'was not', \"we're\": 'we are', \"we've\": 'we have', \"we'll\": 'we will', \"we'll've\": 'we will have', \"we'd\": 'we would', \"we'd've\": 'we would have', \"weren't\": 'were not', \"what're\": 'what are', \"what'd\": 'what did', \"what've\": 'what have', \"what's\": 'what is', \"what'll\": 'what will', \"what'll've\": 'what will have', \"when've\": 'when have', \"when's\": 'when is', \"where're\": 'where are', \"where'd\": 'where did', \"where've\": 'where have', \"where's\": 'where is', \"which's\": 'which is', \"who're\": 'who are', \"who've\": 'who have', \"who's\": 'who is', \"who'll\": 'who will', \"who'll've\": 'who will have', \"who'd\": 'who would', \"who'd've\": 'who would have', \"why're\": 'why are', \"why'd\": 'why did', \"why've\": 'why have', \"why's\": 'why is', \"will've\": 'will have', \"won't\": 'will not', \"won't've\": 'will not have', \"would've\": 'would have', \"wouldn't\": 'would not', \"wouldn't've\": 'would not have', \"y'all\": 'you all', \"y'all're\": 'you all are', \"y'all've\": 'you all have', \"y'all'd\": 'you all would', \"y'all'd've\": 'you all would have', \"you're\": 'you are', \"you've\": 'you have', \"you'll've\": 'you shall have', \"you'll\": 'you will', \"you'd\": 'you would', \"you'd've\": 'you would have', 'to cause': 'to cause', 'will cause': 'will cause', 'should cause': 'should cause', 'would cause': 'would cause', 'can cause': 'can cause', 'could cause': 'could cause', 'must cause': 'must cause', 'might cause': 'might cause', 'shall cause': 'shall cause', 'may cause': 'may cause', 'jan.': 'january', 'feb.': 'february', 'mar.': 'march', 'apr.': 'april', 'jun.': 'june', 'jul.': 'july', 'aug.': 'august', 'sep.': 'september', 'oct.': 'october', 'nov.': 'november', 'dec.': 'december', 'I’m': 'I am', 'I’m’a': 'I am about to', 'I’m’o': 'I am going to', 'I’ve': 'I have', 'I’ll': 'I will', 'I’ll’ve': 'I will have', 'I’d': 'I would', 'I’d’ve': 'I would have', 'amn’t': 'am not', 'ain’t': 'are not', 'aren’t': 'are not', '’cause': 'because', 'can’t': 'cannot', 'can’t’ve': 'cannot have', 'could’ve': 'could have', 'couldn’t': 'could not', 'couldn’t’ve': 'could not have', 'daren’t': 'dare not', 'daresn’t': 'dare not', 'dasn’t': 'dare not', 'doesn’t': 'does not', 'e’er': 'ever', 'everyone’s': 'everyone is', 'gon’t': 'go not', 'hadn’t': 'had not', 'hadn’t’ve': 'had not have', 'hasn’t': 'has not', 'haven’t': 'have not', 'he’ve': 'he have', 'he’s': 'he is', 'he’ll': 'he will', 'he’ll’ve': 'he will have', 'he’d': 'he would', 'he’d’ve': 'he would have', 'here’s': 'here is', 'how’re': 'how are', 'how’d': 'how did', 'how’d’y': 'how do you', 'how’s': 'how is', 'how’ll': 'how will', 'isn’t': 'is not', 'it’s': 'it is', '’tis': 'it is', '’twas': 'it was', 'it’ll': 'it will', 'it’ll’ve': 'it will have', 'it’d': 'it would', 'it’d’ve': 'it would have', 'let’s': 'let us', 'ma’am': 'madam', 'may’ve': 'may have', 'mayn’t': 'may not', 'might’ve': 'might have', 'mightn’t': 'might not', 'mightn’t’ve': 'might not have', 'must’ve': 'must have', 'mustn’t': 'must not', 'mustn’t’ve': 'must not have', 'needn’t': 'need not', 'needn’t’ve': 'need not have', 'ne’er': 'never', 'o’': 'of', 'o’clock': 'of the clock', 'ol’': 'old', 'oughtn’t': 'ought not', 'oughtn’t’ve': 'ought not have', 'o’er': 'over', 'shan’t': 'shall not', 'sha’n’t': 'shall not', 'shalln’t': 'shall not', 'shan’t’ve': 'shall not have', 'she’s': 'she is', 'she’ll': 'she will', 'she’d': 'she would', 'she’d’ve': 'she would have', 'should’ve': 'should have', 'shouldn’t': 'should not', 'shouldn’t’ve': 'should not have', 'so’ve': 'so have', 'so’s': 'so is', 'somebody’s': 'somebody is', 'someone’s': 'someone is', 'something’s': 'something is', 'that’re': 'that are', 'that’s': 'that is', 'that’ll': 'that will', 'that’d': 'that would', 'that’d’ve': 'that would have', '’em': 'them', 'there’re': 'there are', 'there’s': 'there is', 'there’ll': 'there will', 'there’d': 'there would', 'there’d’ve': 'there would have', 'these’re': 'these are', 'they’re': 'they are', 'they’ve': 'they have', 'they’ll': 'they will', 'they’ll’ve': 'they will have', 'they’d': 'they would', 'they’d’ve': 'they would have', 'this’s': 'this is', 'this’ll': 'this will', 'this’d': 'this would', 'those’re': 'those are', 'to’ve': 'to have', 'wasn’t': 'was not', 'we’re': 'we are', 'we’ve': 'we have', 'we’ll': 'we will', 'we’ll’ve': 'we will have', 'we’d': 'we would', 'we’d’ve': 'we would have', 'weren’t': 'were not', 'what’re': 'what are', 'what’d': 'what did', 'what’ve': 'what have', 'what’s': 'what is', 'what’ll': 'what will', 'what’ll’ve': 'what will have', 'when’ve': 'when have', 'when’s': 'when is', 'where’re': 'where are', 'where’d': 'where did', 'where’ve': 'where have', 'where’s': 'where is', 'which’s': 'which is', 'who’re': 'who are', 'who’ve': 'who have', 'who’s': 'who is', 'who’ll': 'who will', 'who’ll’ve': 'who will have', 'who’d': 'who would', 'who’d’ve': 'who would have', 'why’re': 'why are', 'why’d': 'why did', 'why’ve': 'why have', 'why’s': 'why is', 'will’ve': 'will have', 'won’t': 'will not', 'won’t’ve': 'will not have', 'would’ve': 'would have', 'wouldn’t': 'would not', 'wouldn’t’ve': 'would not have', 'y’all': 'you all', 'y’all’re': 'you all are', 'y’all’ve': 'you all have', 'y’all’d': 'you all would', 'y’all’d’ve': 'you all would have', 'you’re': 'you are', 'you’ve': 'you have', 'you’ll’ve': 'you shall have', 'you’ll': 'you will', 'you’d': 'you would', 'you’d’ve': 'you would have'}\n"
          ]
        }
      ],
      "source": [
        "print(contractions.contractions_dict)"
      ]
    },
    {
      "cell_type": "markdown",
      "metadata": {
        "id": "7lho1c8I5D2B"
      },
      "source": [
        "* Create a `_fix_contractions` function used to replace contractions with their extended forms by using the contractions dictionnary"
      ]
    },
    {
      "cell_type": "code",
      "execution_count": 37,
      "metadata": {
        "id": "A1xj5UXbVspq"
      },
      "outputs": [],
      "source": [
        "def _fix_contractions(tweet):\n",
        "  for k, v in contractions.contractions_dict.items():\n",
        "    tweet = tweet.replace(k, v)\n",
        "  return tweet"
      ]
    },
    {
      "cell_type": "code",
      "execution_count": 38,
      "metadata": {
        "id": "MP6atIK-VsNw"
      },
      "outputs": [],
      "source": [
        "def fix_contractions(tweet):\n",
        "  tweet = contractions.fix(tweet)\n",
        "  return tweet"
      ]
    },
    {
      "cell_type": "markdown",
      "metadata": {
        "id": "V7Qnxa-_2q6x"
      },
      "source": [
        "\n",
        "\n",
        "## **2.10** Tokenization"
      ]
    },
    {
      "cell_type": "code",
      "execution_count": 39,
      "metadata": {
        "colab": {
          "base_uri": "https://localhost:8080/"
        },
        "id": "SnKD-MkZ2kNd",
        "outputId": "e0867a48-c411-4287-c66d-4ed8a5b004d0"
      },
      "outputs": [
        {
          "output_type": "stream",
          "name": "stdout",
          "text": [
            "Requirement already satisfied: nltk in /usr/local/lib/python3.11/dist-packages (3.9.1)\n",
            "Requirement already satisfied: click in /usr/local/lib/python3.11/dist-packages (from nltk) (8.1.8)\n",
            "Requirement already satisfied: joblib in /usr/local/lib/python3.11/dist-packages (from nltk) (1.4.2)\n",
            "Requirement already satisfied: regex>=2021.8.3 in /usr/local/lib/python3.11/dist-packages (from nltk) (2024.11.6)\n",
            "Requirement already satisfied: tqdm in /usr/local/lib/python3.11/dist-packages (from nltk) (4.67.1)\n"
          ]
        }
      ],
      "source": [
        "pip install nltk"
      ]
    },
    {
      "cell_type": "code",
      "execution_count": 40,
      "metadata": {
        "colab": {
          "base_uri": "https://localhost:8080/"
        },
        "id": "-6SVKvVP4NDL",
        "outputId": "84d15e0a-2dab-4ec5-b163-9b474afe117e"
      },
      "outputs": [
        {
          "output_type": "stream",
          "name": "stderr",
          "text": [
            "[nltk_data] Downloading package punkt_tab to /root/nltk_data...\n",
            "[nltk_data]   Unzipping tokenizers/punkt_tab.zip.\n",
            "[nltk_data] Downloading package punkt to /root/nltk_data...\n",
            "[nltk_data]   Unzipping tokenizers/punkt.zip.\n"
          ]
        },
        {
          "output_type": "execute_result",
          "data": {
            "text/plain": [
              "True"
            ]
          },
          "metadata": {},
          "execution_count": 40
        }
      ],
      "source": [
        "import nltk\n",
        "from nltk.tokenize import word_tokenize\n",
        "nltk.download('punkt_tab')\n",
        "nltk.download('punkt')"
      ]
    },
    {
      "cell_type": "markdown",
      "metadata": {
        "id": "zo0nDxqUDy6s"
      },
      "source": [
        "* Create a `tokenize()` function that takes a tweet as input and returns a list of tokens"
      ]
    },
    {
      "cell_type": "code",
      "execution_count": 41,
      "metadata": {
        "id": "MthNx7ou4OnW"
      },
      "outputs": [],
      "source": [
        "def tokenize(tweet):\n",
        "  tokens = word_tokenize(tweet)\n",
        "  return tokens"
      ]
    },
    {
      "cell_type": "markdown",
      "metadata": {
        "id": "DoiTPGFNDqAf"
      },
      "source": [
        "* Use the `tokenize()` function to print the tokenized version of a tweet"
      ]
    },
    {
      "cell_type": "markdown",
      "metadata": {
        "id": "SLPhIt14FfVc"
      },
      "source": [
        "* Import the `string` package"
      ]
    },
    {
      "cell_type": "code",
      "execution_count": 42,
      "metadata": {
        "id": "baAGSohY5PcV"
      },
      "outputs": [],
      "source": [
        "import string"
      ]
    },
    {
      "cell_type": "code",
      "execution_count": 43,
      "metadata": {
        "colab": {
          "base_uri": "https://localhost:8080/"
        },
        "id": "Yc6naeSUkNs8",
        "outputId": "1b0e85a2-9614-4c5a-95e9-abd08376ceb1"
      },
      "outputs": [
        {
          "output_type": "stream",
          "name": "stdout",
          "text": [
            "!\"#$%&'()*+,-./:;<=>?@[\\]^_`{|}~\n"
          ]
        }
      ],
      "source": [
        "print(string.punctuation)"
      ]
    },
    {
      "cell_type": "code",
      "execution_count": 44,
      "metadata": {
        "colab": {
          "base_uri": "https://localhost:8080/"
        },
        "id": "2MBBQJDeQSi4",
        "outputId": "2ed4d47c-8a13-4a35-b5c6-c16566d62138"
      },
      "outputs": [
        {
          "output_type": "stream",
          "name": "stderr",
          "text": [
            "[nltk_data] Downloading package stopwords to /root/nltk_data...\n",
            "[nltk_data]   Unzipping corpora/stopwords.zip.\n"
          ]
        },
        {
          "output_type": "execute_result",
          "data": {
            "text/plain": [
              "True"
            ]
          },
          "metadata": {},
          "execution_count": 44
        }
      ],
      "source": [
        "from nltk.corpus import stopwords\n",
        "nltk.download('stopwords')"
      ]
    },
    {
      "cell_type": "code",
      "execution_count": 45,
      "metadata": {
        "colab": {
          "base_uri": "https://localhost:8080/"
        },
        "id": "NZXqXrG42qMk",
        "outputId": "fb693eac-f3f0-4947-8171-775a44e98a89"
      },
      "outputs": [
        {
          "output_type": "stream",
          "name": "stdout",
          "text": [
            "{'s', 'been', 'll', 'y', 'same', \"i'm\", 'him', 'weren', 'for', \"shouldn't\", 'itself', 'own', 'while', \"weren't\", 'all', 'couldn', 'this', 'himself', 'had', 'the', 'during', 'my', 'not', \"we've\", 'won', 'am', 'nor', 'isn', 'more', 'did', 'but', 'so', 'wouldn', \"wouldn't\", 'her', 'on', \"hasn't\", 't', 'being', 'whom', 'just', \"i'll\", 'off', 'are', 'me', 'you', 'very', 'doesn', \"it'd\", 'no', 'ma', 'too', 'yourselves', 'to', 're', 'why', 'those', \"he's\", 'theirs', \"you'd\", 'about', 'does', 'is', 'that', 'do', 'aren', 'any', 'having', 'after', \"we'd\", 'at', 'most', 'shouldn', 'd', 'were', \"she'll\", \"he'd\", 'our', 'she', 'between', 'mightn', 'once', 'what', 'here', \"that'll\", 'he', 'yourself', 'into', 'ours', \"i've\", 'from', 'mustn', \"should've\", 'up', \"they've\", \"aren't\", 'against', 'both', 'if', 'doing', \"mightn't\", 'herself', \"she's\", 'can', \"you've\", 'through', 'm', \"don't\", 'needn', 'than', 'should', 'a', 'and', \"we'll\", 'haven', \"he'll\", \"it's\", 'these', \"they'll\", 'under', \"it'll\", 'its', 'other', 'has', 'or', 'themselves', \"you're\", 'hers', \"couldn't\", 'an', \"they'd\", \"needn't\", 'only', 'now', 'as', 'where', 'hasn', 'will', 'yours', \"didn't\", 'few', 'them', 'above', 'again', 'which', 'hadn', 'o', \"mustn't\", \"they're\", 'before', 'their', 'some', 'shan', \"i'd\", 'be', 'don', 'each', \"haven't\", 'was', \"hadn't\", 'myself', 'then', 'wasn', 'with', 'by', 'over', 'how', 'didn', 'have', \"doesn't\", 'it', 'we', \"we're\", 'such', \"isn't\", 'ourselves', \"you'll\", 'i', 'who', 'until', 'there', 'of', 'below', 'further', \"wasn't\", 'in', 'when', \"she'd\", 'because', 'his', \"won't\", 'down', 'ain', 'your', 've', 'out', \"shan't\", 'they'}\n"
          ]
        }
      ],
      "source": [
        "stop_words = set(stopwords.words('english'))\n",
        "print(stop_words)"
      ]
    },
    {
      "cell_type": "code",
      "execution_count": 46,
      "metadata": {
        "colab": {
          "base_uri": "https://localhost:8080/"
        },
        "id": "Kcgpw29wmec4",
        "outputId": "80b9ea65-595b-4c98-c106-4002f460ec4a"
      },
      "outputs": [
        {
          "output_type": "stream",
          "name": "stdout",
          "text": [
            "{'s', 'been', 'll', 'y', 'same', \"i'm\", 'him', 'weren', 'for', \"shouldn't\", 'itself', 'own', 'while', \"weren't\", 'all', 'couldn', 'this', 'himself', 'had', 'the', 'during', 'my', \"we've\", 'won', 'am', 'nor', 'isn', 'more', 'did', 'but', 'so', 'wouldn', \"wouldn't\", 'her', 'on', \"hasn't\", 't', 'being', 'whom', 'just', \"i'll\", 'off', 'are', 'me', 'you', 'very', 'doesn', \"it'd\", 'no', 'ma', 'too', 'yourselves', 'to', 're', 'why', 'those', \"he's\", 'theirs', \"you'd\", 'about', 'does', 'is', 'that', 'do', 'aren', 'any', 'having', 'after', \"we'd\", 'at', 'most', 'shouldn', 'd', 'were', \"she'll\", \"he'd\", 'our', 'she', 'between', 'mightn', 'once', 'what', 'here', \"that'll\", 'he', 'yourself', 'into', 'ours', \"i've\", 'from', 'mustn', \"should've\", 'up', \"they've\", \"aren't\", 'against', 'both', 'if', 'doing', \"mightn't\", 'herself', \"she's\", 'can', \"you've\", 'through', 'm', \"don't\", 'needn', 'than', 'should', 'a', 'and', \"we'll\", 'haven', \"he'll\", \"it's\", 'these', \"they'll\", 'under', \"it'll\", 'its', 'other', 'has', 'or', 'themselves', \"you're\", 'hers', \"couldn't\", 'an', \"they'd\", \"needn't\", 'only', 'now', 'as', 'where', 'hasn', 'will', 'yours', \"didn't\", 'few', 'them', 'above', 'again', 'which', 'hadn', 'o', \"mustn't\", \"they're\", 'before', 'their', 'some', 'shan', \"i'd\", 'be', 'don', 'each', \"haven't\", 'was', \"hadn't\", 'myself', 'then', 'wasn', 'with', 'by', 'over', 'how', 'didn', 'have', \"doesn't\", 'it', 'we', \"we're\", 'such', \"isn't\", 'ourselves', \"you'll\", 'i', 'who', 'until', 'there', 'of', 'below', 'further', \"wasn't\", 'in', 'when', \"she'd\", 'because', 'his', \"won't\", 'down', 'ain', 'your', 've', 'out', \"shan't\", 'they'}\n"
          ]
        }
      ],
      "source": [
        "stop_words.discard('not')\n",
        "print(stop_words)"
      ]
    },
    {
      "cell_type": "code",
      "execution_count": 47,
      "metadata": {
        "id": "b6cZbaTB5Yr7"
      },
      "outputs": [],
      "source": [
        "def custom_tokenize(tweet,\n",
        "                    keep_punct = False,\n",
        "                    keep_alnum = False,\n",
        "                    keep_stop = False):\n",
        "\n",
        "  token_list = word_tokenize(tweet)\n",
        "\n",
        "  if not keep_punct:\n",
        "    token_list = [token for token in token_list\n",
        "                  if token not in string.punctuation]\n",
        "\n",
        "  if not keep_alnum:\n",
        "    token_list = [token for token in token_list if token.isalpha()]\n",
        "\n",
        "  if not keep_stop:\n",
        "    stop_words = set(stopwords.words('english'))\n",
        "    stop_words.discard('not')\n",
        "    token_list = [token for token in token_list if not token in stop_words]\n",
        "\n",
        "  return token_list"
      ]
    },
    {
      "cell_type": "markdown",
      "metadata": {
        "id": "_z5OuuxY6L9b"
      },
      "source": [
        "* exemple of function with a particular tweet"
      ]
    },
    {
      "cell_type": "code",
      "execution_count": 48,
      "metadata": {
        "id": "6LDWcJ99E6Z2"
      },
      "outputs": [],
      "source": [
        "tweet = \"these are 5 different words!\""
      ]
    },
    {
      "cell_type": "code",
      "execution_count": 49,
      "metadata": {
        "colab": {
          "base_uri": "https://localhost:8080/"
        },
        "id": "gXyaftGrEvkC",
        "outputId": "3231ade4-afd5-4ca3-cf4c-1976b27c92ac"
      },
      "outputs": [
        {
          "output_type": "stream",
          "name": "stdout",
          "text": [
            "Tweet tokens: ['these', 'are', '5', 'different', 'words', '!']\n",
            "Tweet tokens: ['these', 'are', 'different', 'words']\n",
            "Tweet tokens: ['5', 'different', 'words']\n"
          ]
        }
      ],
      "source": [
        "print(\"Tweet tokens: {}\".format(custom_tokenize(tweet,\n",
        "                                                keep_punct=True,\n",
        "                                                keep_alnum=True,\n",
        "                                                keep_stop=True)))\n",
        "print(\"Tweet tokens: {}\".format(custom_tokenize(tweet, keep_stop=True)))\n",
        "print(\"Tweet tokens: {}\".format(custom_tokenize(tweet, keep_alnum=True)))"
      ]
    },
    {
      "cell_type": "markdown",
      "metadata": {
        "id": "DIY4CKCcTyEo"
      },
      "source": [
        "\n",
        "\n",
        "## **2.11** Stemming"
      ]
    },
    {
      "cell_type": "code",
      "execution_count": 50,
      "metadata": {
        "id": "5oaU_cd_Wz0u"
      },
      "outputs": [],
      "source": [
        "from nltk.stem import PorterStemmer\n",
        "from nltk.stem import LancasterStemmer\n",
        "from nltk.stem.snowball import SnowballStemmer"
      ]
    },
    {
      "cell_type": "code",
      "execution_count": 51,
      "metadata": {
        "id": "sTraXL0yy1Up"
      },
      "outputs": [],
      "source": [
        "tokens = [\"manager\", \"management\", \"managing\"]"
      ]
    },
    {
      "cell_type": "code",
      "execution_count": 52,
      "metadata": {
        "id": "o8QDL-05tMj5"
      },
      "outputs": [],
      "source": [
        "porter_stemmer = PorterStemmer()\n",
        "lancaster_stemmer = LancasterStemmer()\n",
        "snoball_stemmer = SnowballStemmer('english')"
      ]
    },
    {
      "cell_type": "code",
      "execution_count": 53,
      "metadata": {
        "id": "CetNdOeRTyjj"
      },
      "outputs": [],
      "source": [
        "def stem_tokens(tokens, stemmer):\n",
        "  token_list = []\n",
        "  for token in tokens:\n",
        "    token_list.append(stemmer.stem(token))\n",
        "  return token_list"
      ]
    },
    {
      "cell_type": "code",
      "execution_count": 54,
      "metadata": {
        "colab": {
          "base_uri": "https://localhost:8080/"
        },
        "id": "YDZqSc43tKjI",
        "outputId": "3acc8315-f1bb-4f23-8379-2418e3408689"
      },
      "outputs": [
        {
          "output_type": "stream",
          "name": "stdout",
          "text": [
            "Porter stems: ['manag', 'manag', 'manag']\n",
            "Lancaster stems: ['man', 'man', 'man']\n",
            "Snowball stems: ['manag', 'manag', 'manag']\n"
          ]
        }
      ],
      "source": [
        "print(\"Porter stems: {}\".format(stem_tokens(tokens, porter_stemmer)))\n",
        "print(\"Lancaster stems: {}\".format(stem_tokens(tokens, lancaster_stemmer)))\n",
        "print(\"Snowball stems: {}\".format(stem_tokens(tokens, snoball_stemmer)))"
      ]
    },
    {
      "cell_type": "code",
      "execution_count": 55,
      "metadata": {
        "id": "Y9beBm8O0Gpp"
      },
      "outputs": [],
      "source": [
        "tokens = [\"international\", \"companies\", \"had\", \"interns\"]"
      ]
    },
    {
      "cell_type": "code",
      "execution_count": 56,
      "metadata": {
        "colab": {
          "base_uri": "https://localhost:8080/"
        },
        "id": "pGGhCVph1VDp",
        "outputId": "81b9678e-15a6-4075-b8e1-c2f4448994f2"
      },
      "outputs": [
        {
          "output_type": "stream",
          "name": "stdout",
          "text": [
            "Porter stems: ['intern', 'compani', 'had', 'intern']\n",
            "Lancaster stems: ['intern', 'company', 'had', 'intern']\n",
            "Snowball stems: ['intern', 'compani', 'had', 'intern']\n"
          ]
        }
      ],
      "source": [
        "print(\"Porter stems: {}\".format(stem_tokens(tokens, porter_stemmer)))\n",
        "print(\"Lancaster stems: {}\".format(stem_tokens(tokens, lancaster_stemmer)))\n",
        "print(\"Snowball stems: {}\".format(stem_tokens(tokens, snoball_stemmer)))"
      ]
    },
    {
      "cell_type": "markdown",
      "metadata": {
        "id": "62AsuQu6UIEn"
      },
      "source": [
        "\n",
        "\n",
        "## **2.12** Lemmatization"
      ]
    },
    {
      "cell_type": "code",
      "execution_count": 57,
      "metadata": {
        "colab": {
          "base_uri": "https://localhost:8080/"
        },
        "id": "lUdQlhSQUL7T",
        "outputId": "d2d45def-787d-436b-caa9-f03cdf073873"
      },
      "outputs": [
        {
          "output_type": "stream",
          "name": "stderr",
          "text": [
            "[nltk_data] Downloading package wordnet to /root/nltk_data...\n"
          ]
        },
        {
          "output_type": "execute_result",
          "data": {
            "text/plain": [
              "True"
            ]
          },
          "metadata": {},
          "execution_count": 57
        }
      ],
      "source": [
        "from nltk.stem import WordNetLemmatizer\n",
        "from nltk.corpus import wordnet\n",
        "nltk.download('wordnet')"
      ]
    },
    {
      "cell_type": "code",
      "execution_count": 58,
      "metadata": {
        "id": "kljxJlz0yJ8H"
      },
      "outputs": [],
      "source": [
        "tokens = [\"international\", \"companies\", \"had\", \"interns\"]"
      ]
    },
    {
      "cell_type": "code",
      "execution_count": 59,
      "metadata": {
        "id": "oWHJMdHH18le"
      },
      "outputs": [],
      "source": [
        "word_type = {\"international\": wordnet.ADJ,\n",
        "             \"companies\": wordnet.NOUN,\n",
        "             \"had\": wordnet.VERB,\n",
        "             \"interns\": wordnet.NOUN\n",
        "             }"
      ]
    },
    {
      "cell_type": "code",
      "execution_count": 60,
      "metadata": {
        "id": "J-AAGLN4UWTO"
      },
      "outputs": [],
      "source": [
        "lemmatizer = WordNetLemmatizer()"
      ]
    },
    {
      "cell_type": "code",
      "execution_count": 61,
      "metadata": {
        "id": "D6Kiw9xOZE-F"
      },
      "outputs": [],
      "source": [
        "def lemmatize_tokens(tokens, word_type, lemmatizer):\n",
        "  token_list = []\n",
        "  for token in tokens:\n",
        "    token_list.append(lemmatizer.lemmatize(token, word_type[token]))\n",
        "  return token_list\n"
      ]
    },
    {
      "cell_type": "code",
      "execution_count": 62,
      "metadata": {
        "colab": {
          "base_uri": "https://localhost:8080/"
        },
        "id": "2nnvMrk_UYZ1",
        "outputId": "4c8d2319-b247-408c-898e-53c136f96fa5"
      },
      "outputs": [
        {
          "output_type": "stream",
          "name": "stdout",
          "text": [
            "Tweet lemma: ['international', 'company', 'have', 'intern']\n"
          ]
        }
      ],
      "source": [
        "print(\"Tweet lemma: {}\".format(\n",
        "    lemmatize_tokens(tokens, word_type, lemmatizer)))"
      ]
    },
    {
      "cell_type": "markdown",
      "metadata": {
        "id": "DTervSXj3zkF"
      },
      "source": [
        "\n",
        "\n",
        "## **2.13**  all processing"
      ]
    },
    {
      "cell_type": "markdown",
      "metadata": {
        "id": "Ag9YSiUE8I03"
      },
      "source": [
        "* Long and complex tweet to be processed"
      ]
    },
    {
      "cell_type": "code",
      "execution_count": 63,
      "metadata": {
        "id": "COBX24hLZiZn"
      },
      "outputs": [],
      "source": [
        "complex_tweet = r\"\"\"RT @jhon : he looooook,\n",
        "THis is a big and complex TWeet!!! 👍 ...\n",
        "We'd be glad if you couldn't normalize it!\n",
        "Check https://t.co/7777 and LET ME KNOW!!! #NLP #Fun\"\"\""
      ]
    },
    {
      "cell_type": "code",
      "execution_count": 64,
      "metadata": {
        "id": "iiQofxMv37Ik"
      },
      "outputs": [],
      "source": [
        "def process_tweet(tweet, verbose=False):\n",
        "  if verbose: print(\"Initial tweet: {}\".format(tweet))\n",
        "\n",
        "  ## Twitter Features\n",
        "  tweet = replace_retweet(tweet) # replace retweet\n",
        "  tweet = replace_user(tweet, \"\") # replace user tag\n",
        "  tweet = replace_url(tweet) # replace url\n",
        "  tweet = replace_hashtag(tweet) # replace hashtag\n",
        "  if verbose: print(\"Post Twitter processing tweet: {}\".format(tweet))\n",
        "\n",
        "  ## Word Features\n",
        "  tweet = to_lowercase(tweet) # lower case\n",
        "  tweet = fix_contractions(tweet) # replace contractions\n",
        "  tweet = punct_repetition(tweet) # replace punctuation repetition\n",
        "  tweet = word_repetition(tweet) # replace word repetition\n",
        "  tweet = delete_emoji(tweet) # replace emojis\n",
        "  if verbose: print(\"Post Word processing tweet: {}\".format(tweet))\n",
        "\n",
        "  ## Tokenization & Stemming\n",
        "  tokens = custom_tokenize(tweet, keep_alnum=False, keep_stop=False) # tokenize\n",
        "  stemmer = SnowballStemmer(\"english\") # define stemmer\n",
        "  stem = stem_tokens(tokens, stemmer) # stem tokens\n",
        "\n",
        "  return stem"
      ]
    },
    {
      "cell_type": "code",
      "execution_count": 65,
      "metadata": {
        "colab": {
          "base_uri": "https://localhost:8080/"
        },
        "id": "_Xb146QF4uhj",
        "outputId": "e82402cc-911f-4b55-c476-6dfbf46465fb"
      },
      "outputs": [
        {
          "output_type": "stream",
          "name": "stdout",
          "text": [
            "['look', 'big', 'complex', 'tweet', 'would', 'glad', 'could', 'not', 'normal', 'check', 'let', 'know', 'nlp', 'fun']\n"
          ]
        }
      ],
      "source": [
        "print(process_tweet(complex_tweet, verbose=False))"
      ]
    },
    {
      "cell_type": "code",
      "execution_count": 66,
      "metadata": {
        "id": "26lxJnf2K7zd"
      },
      "outputs": [],
      "source": [
        "import random"
      ]
    },
    {
      "cell_type": "code",
      "execution_count": 67,
      "metadata": {
        "colab": {
          "base_uri": "https://localhost:8080/"
        },
        "id": "XBa0HUtM4x0n",
        "outputId": "9eef9584-d4f1-4038-f139-327e97dc37b3"
      },
      "outputs": [
        {
          "output_type": "stream",
          "name": "stdout",
          "text": [
            "Initial tweet: Started work at 5am on a saturday boooo \n",
            "Post Twitter processing tweet: Started work at 5am on a saturday boooo \n",
            "Post Word processing tweet: started work at 5am on a saturday boo \n",
            "['start', 'work', 'saturday', 'boo']\n",
            "\n",
            "\n",
            "Initial tweet: its Tai Chi Friday for me......i think I am much better prepared for class today than last week \n",
            "Post Twitter processing tweet: its Tai Chi Friday for me......i think I am much better prepared for class today than last week \n",
            "Post Word processing tweet: its tai chi friday for me.i think i am much better prepared for class today than last week \n",
            "['tai', 'chi', 'friday', 'think', 'much', 'better', 'prepar', 'class', 'today', 'last', 'week']\n",
            "\n",
            "\n",
            "Initial tweet: BAH SO TIRED &amp; I CAN'T DRAW ANYTHING.  I think my drawer is broken. G'NIGHT TWITTS\n",
            "Post Twitter processing tweet: BAH SO TIRED &amp; I CAN'T DRAW ANYTHING.  I think my drawer is broken. G'NIGHT TWITTS\n",
            "Post Word processing tweet: bah so tired &amp; i cannot draw anything.  i think my drawer is broken. g'night twitts\n",
            "['bah', 'tire', 'amp', 'not', 'draw', 'anyth', 'think', 'drawer', 'broken', 'twitt']\n",
            "\n",
            "\n",
            "Initial tweet: @synonymity wish I could be there. \n",
            "Post Twitter processing tweet:  wish I could be there. \n",
            "Post Word processing tweet:  wish i could be there. \n",
            "['wish', 'could']\n",
            "\n",
            "\n",
            "Initial tweet: @annTRS I hope so but it kinda sucked for me.  The m&amp;g was semi-awkward. The only one that really seemed happy was Alex. Haha.\n",
            "Post Twitter processing tweet:  I hope so but it kinda sucked for me.  The m&amp;g was semi-awkward. The only one that really seemed happy was Alex. Haha.\n",
            "Post Word processing tweet:  i hope so but it kind of sucked for me.  the m&amp;g was semi-awkward. the only one that really seemed happy was alex. haha.\n",
            "['hope', 'kind', 'suck', 'amp', 'g', 'one', 'realli', 'seem', 'happi', 'alex', 'haha']\n",
            "\n",
            "\n"
          ]
        }
      ],
      "source": [
        "for i in range(5):\n",
        "  tweet_id = random.randint(0,len(df))\n",
        "  tweet = df.iloc[tweet_id][\"text\"]\n",
        "  print(process_tweet(tweet, verbose=True))\n",
        "  print(\"\\n\")"
      ]
    },
    {
      "cell_type": "markdown",
      "metadata": {
        "id": "V1ScK4-f_cJB"
      },
      "source": [
        "\n",
        "\n",
        "#  3.Text Representation </h2>"
      ]
    },
    {
      "cell_type": "markdown",
      "metadata": {
        "id": "dgEa9cqUzoEK"
      },
      "source": [
        "\n",
        "\n",
        "## **3.1** Processing Tweets"
      ]
    },
    {
      "cell_type": "code",
      "execution_count": 68,
      "metadata": {
        "colab": {
          "base_uri": "https://localhost:8080/"
        },
        "id": "T1oZA6AjqC3X",
        "outputId": "11f15cd1-1013-49f9-fe66-401e0a00b4de"
      },
      "outputs": [
        {
          "output_type": "stream",
          "name": "stdout",
          "text": [
            "Requirement already satisfied: scikit-learn in /usr/local/lib/python3.11/dist-packages (1.6.1)\n",
            "Requirement already satisfied: numpy>=1.19.5 in /usr/local/lib/python3.11/dist-packages (from scikit-learn) (2.0.2)\n",
            "Requirement already satisfied: scipy>=1.6.0 in /usr/local/lib/python3.11/dist-packages (from scikit-learn) (1.14.1)\n",
            "Requirement already satisfied: joblib>=1.2.0 in /usr/local/lib/python3.11/dist-packages (from scikit-learn) (1.4.2)\n",
            "Requirement already satisfied: threadpoolctl>=3.1.0 in /usr/local/lib/python3.11/dist-packages (from scikit-learn) (3.6.0)\n"
          ]
        }
      ],
      "source": [
        "pip install -U scikit-learn"
      ]
    },
    {
      "cell_type": "markdown",
      "metadata": {
        "id": "MjvFLUXi_Ukv"
      },
      "source": [
        "* Apply `process_tweet` function  to the entire DataFrame\n",
        "* Convert sentiment to 1 for \"positive\" and 0 for \"negative\" sentiment"
      ]
    },
    {
      "cell_type": "code",
      "execution_count": 69,
      "metadata": {
        "id": "B0_4R6tNqcAg"
      },
      "outputs": [],
      "source": [
        "df[\"tokens\"] = df[\"text\"].apply(process_tweet)\n",
        "df[\"tweet_sentiment\"] = df[\"target\"].map({1: '1', 0: '0'})\n",
        "\n",
        "\n",
        "\n"
      ]
    },
    {
      "cell_type": "code",
      "execution_count": 70,
      "metadata": {
        "colab": {
          "base_uri": "https://localhost:8080/",
          "height": 597
        },
        "id": "-BiwxWVVKlRy",
        "outputId": "eb74c11d-3ddb-4717-d270-5dc5ed98602c"
      },
      "outputs": [
        {
          "output_type": "execute_result",
          "data": {
            "text/plain": [
              "      target          id                          date      flag  \\\n",
              "0          0  1975142734  Sat May 30 14:32:09 PDT 2009  NO_QUERY   \n",
              "1          1  1467898572  Mon Apr 06 22:42:58 PDT 2009  NO_QUERY   \n",
              "2          0  1999149757  Mon Jun 01 19:43:35 PDT 2009  NO_QUERY   \n",
              "3          1  1827746500  Sun May 17 11:21:35 PDT 2009  NO_QUERY   \n",
              "4          0  1991238899  Mon Jun 01 06:40:10 PDT 2009  NO_QUERY   \n",
              "...      ...         ...                           ...       ...   \n",
              "7996       1  2063787982  Sun Jun 07 04:04:35 PDT 2009  NO_QUERY   \n",
              "7997       1  1833380056  Sun May 17 23:06:22 PDT 2009  NO_QUERY   \n",
              "7998       1  1791937789  Wed May 13 21:35:32 PDT 2009  NO_QUERY   \n",
              "7999       0  1991155816  Mon Jun 01 06:30:39 PDT 2009  NO_QUERY   \n",
              "8000       1  1557631563  Sun Apr 19 05:13:27 PDT 2009  NO_QUERY   \n",
              "\n",
              "                 user                                               text  \\\n",
              "0      LouiseStarGirl  @dougiemcfly http://twitpic.com/67uc7 - aww bl...   \n",
              "1     PetParentAuthor  A healthy remedy for you AND your dog  http://...   \n",
              "2           kappymann           RIP for GM, as GM goes, so goes America    \n",
              "3            ccjoonas  @xsmiileyamii haha!! xD oh guurl! I see you go...   \n",
              "4      giantlawnmower  @scifimlb Nope, airing the same time on BBC Am...   \n",
              "...               ...                                                ...   \n",
              "7996       McSapirFly  @30SECONDSTOMARS Have a good luck guys  that C...   \n",
              "7997         jcariaga                                      gooooodnight    \n",
              "7998         scorbin2  has another busy day tomorrow at work, but i L...   \n",
              "7999         jbkilluh  12 hrs of shooting only to be stuck in dead st...   \n",
              "8000         Jemstar3                      is wondering how everyone is    \n",
              "\n",
              "                                                    url  \\\n",
              "0     @dougiemcfly  - aww bless ya am sure ya will b...   \n",
              "1         A healthy remedy for you AND your dog   #dogs   \n",
              "2              RIP for GM, as GM goes, so goes America    \n",
              "3     @xsmiileyamii haha!! xD oh guurl! I see you go...   \n",
              "4     @scifimlb Nope, airing the same time on BBC Am...   \n",
              "...                                                 ...   \n",
              "7996  @30SECONDSTOMARS Have a good luck guys  that C...   \n",
              "7997                                      gooooodnight    \n",
              "7998  has another busy day tomorrow at work, but i L...   \n",
              "7999  12 hrs of shooting only to be stuck in dead st...   \n",
              "8000                      is wondering how everyone is    \n",
              "\n",
              "                                                 tokens tweet_sentiment  \n",
              "0     [aww, bless, ya, sure, ya, amaz, ya, not, onle...               0  \n",
              "1                           [healthi, remedi, dog, dog]               1  \n",
              "2                      [rip, gm, gm, goe, goe, america]               0  \n",
              "3         [haha, xd, oh, guurl, see, got, rayban, huuh]               1  \n",
              "4     [nope, air, time, bbc, america, held, back, ti...               0  \n",
              "...                                                 ...             ...  \n",
              "7996                   [good, luck, guy, cd, go, awsom]               1  \n",
              "7997                                        [goodnight]               1  \n",
              "7998           [anoth, busi, day, tomorrow, work, love]               1  \n",
              "7999  [hrs, shoot, stuck, dead, stop, traffic, way, ...               0  \n",
              "8000                                  [wonder, everyon]               1  \n",
              "\n",
              "[8001 rows x 9 columns]"
            ],
            "text/html": [
              "\n",
              "  <div id=\"df-e5e303af-538c-4ccc-83f2-9a3f076aaa10\" class=\"colab-df-container\">\n",
              "    <div>\n",
              "<style scoped>\n",
              "    .dataframe tbody tr th:only-of-type {\n",
              "        vertical-align: middle;\n",
              "    }\n",
              "\n",
              "    .dataframe tbody tr th {\n",
              "        vertical-align: top;\n",
              "    }\n",
              "\n",
              "    .dataframe thead th {\n",
              "        text-align: right;\n",
              "    }\n",
              "</style>\n",
              "<table border=\"1\" class=\"dataframe\">\n",
              "  <thead>\n",
              "    <tr style=\"text-align: right;\">\n",
              "      <th></th>\n",
              "      <th>target</th>\n",
              "      <th>id</th>\n",
              "      <th>date</th>\n",
              "      <th>flag</th>\n",
              "      <th>user</th>\n",
              "      <th>text</th>\n",
              "      <th>url</th>\n",
              "      <th>tokens</th>\n",
              "      <th>tweet_sentiment</th>\n",
              "    </tr>\n",
              "  </thead>\n",
              "  <tbody>\n",
              "    <tr>\n",
              "      <th>0</th>\n",
              "      <td>0</td>\n",
              "      <td>1975142734</td>\n",
              "      <td>Sat May 30 14:32:09 PDT 2009</td>\n",
              "      <td>NO_QUERY</td>\n",
              "      <td>LouiseStarGirl</td>\n",
              "      <td>@dougiemcfly http://twitpic.com/67uc7 - aww bl...</td>\n",
              "      <td>@dougiemcfly  - aww bless ya am sure ya will b...</td>\n",
              "      <td>[aww, bless, ya, sure, ya, amaz, ya, not, onle...</td>\n",
              "      <td>0</td>\n",
              "    </tr>\n",
              "    <tr>\n",
              "      <th>1</th>\n",
              "      <td>1</td>\n",
              "      <td>1467898572</td>\n",
              "      <td>Mon Apr 06 22:42:58 PDT 2009</td>\n",
              "      <td>NO_QUERY</td>\n",
              "      <td>PetParentAuthor</td>\n",
              "      <td>A healthy remedy for you AND your dog  http://...</td>\n",
              "      <td>A healthy remedy for you AND your dog   #dogs</td>\n",
              "      <td>[healthi, remedi, dog, dog]</td>\n",
              "      <td>1</td>\n",
              "    </tr>\n",
              "    <tr>\n",
              "      <th>2</th>\n",
              "      <td>0</td>\n",
              "      <td>1999149757</td>\n",
              "      <td>Mon Jun 01 19:43:35 PDT 2009</td>\n",
              "      <td>NO_QUERY</td>\n",
              "      <td>kappymann</td>\n",
              "      <td>RIP for GM, as GM goes, so goes America</td>\n",
              "      <td>RIP for GM, as GM goes, so goes America</td>\n",
              "      <td>[rip, gm, gm, goe, goe, america]</td>\n",
              "      <td>0</td>\n",
              "    </tr>\n",
              "    <tr>\n",
              "      <th>3</th>\n",
              "      <td>1</td>\n",
              "      <td>1827746500</td>\n",
              "      <td>Sun May 17 11:21:35 PDT 2009</td>\n",
              "      <td>NO_QUERY</td>\n",
              "      <td>ccjoonas</td>\n",
              "      <td>@xsmiileyamii haha!! xD oh guurl! I see you go...</td>\n",
              "      <td>@xsmiileyamii haha!! xD oh guurl! I see you go...</td>\n",
              "      <td>[haha, xd, oh, guurl, see, got, rayban, huuh]</td>\n",
              "      <td>1</td>\n",
              "    </tr>\n",
              "    <tr>\n",
              "      <th>4</th>\n",
              "      <td>0</td>\n",
              "      <td>1991238899</td>\n",
              "      <td>Mon Jun 01 06:40:10 PDT 2009</td>\n",
              "      <td>NO_QUERY</td>\n",
              "      <td>giantlawnmower</td>\n",
              "      <td>@scifimlb Nope, airing the same time on BBC Am...</td>\n",
              "      <td>@scifimlb Nope, airing the same time on BBC Am...</td>\n",
              "      <td>[nope, air, time, bbc, america, held, back, ti...</td>\n",
              "      <td>0</td>\n",
              "    </tr>\n",
              "    <tr>\n",
              "      <th>...</th>\n",
              "      <td>...</td>\n",
              "      <td>...</td>\n",
              "      <td>...</td>\n",
              "      <td>...</td>\n",
              "      <td>...</td>\n",
              "      <td>...</td>\n",
              "      <td>...</td>\n",
              "      <td>...</td>\n",
              "      <td>...</td>\n",
              "    </tr>\n",
              "    <tr>\n",
              "      <th>7996</th>\n",
              "      <td>1</td>\n",
              "      <td>2063787982</td>\n",
              "      <td>Sun Jun 07 04:04:35 PDT 2009</td>\n",
              "      <td>NO_QUERY</td>\n",
              "      <td>McSapirFly</td>\n",
              "      <td>@30SECONDSTOMARS Have a good luck guys  that C...</td>\n",
              "      <td>@30SECONDSTOMARS Have a good luck guys  that C...</td>\n",
              "      <td>[good, luck, guy, cd, go, awsom]</td>\n",
              "      <td>1</td>\n",
              "    </tr>\n",
              "    <tr>\n",
              "      <th>7997</th>\n",
              "      <td>1</td>\n",
              "      <td>1833380056</td>\n",
              "      <td>Sun May 17 23:06:22 PDT 2009</td>\n",
              "      <td>NO_QUERY</td>\n",
              "      <td>jcariaga</td>\n",
              "      <td>gooooodnight</td>\n",
              "      <td>gooooodnight</td>\n",
              "      <td>[goodnight]</td>\n",
              "      <td>1</td>\n",
              "    </tr>\n",
              "    <tr>\n",
              "      <th>7998</th>\n",
              "      <td>1</td>\n",
              "      <td>1791937789</td>\n",
              "      <td>Wed May 13 21:35:32 PDT 2009</td>\n",
              "      <td>NO_QUERY</td>\n",
              "      <td>scorbin2</td>\n",
              "      <td>has another busy day tomorrow at work, but i L...</td>\n",
              "      <td>has another busy day tomorrow at work, but i L...</td>\n",
              "      <td>[anoth, busi, day, tomorrow, work, love]</td>\n",
              "      <td>1</td>\n",
              "    </tr>\n",
              "    <tr>\n",
              "      <th>7999</th>\n",
              "      <td>0</td>\n",
              "      <td>1991155816</td>\n",
              "      <td>Mon Jun 01 06:30:39 PDT 2009</td>\n",
              "      <td>NO_QUERY</td>\n",
              "      <td>jbkilluh</td>\n",
              "      <td>12 hrs of shooting only to be stuck in dead st...</td>\n",
              "      <td>12 hrs of shooting only to be stuck in dead st...</td>\n",
              "      <td>[hrs, shoot, stuck, dead, stop, traffic, way, ...</td>\n",
              "      <td>0</td>\n",
              "    </tr>\n",
              "    <tr>\n",
              "      <th>8000</th>\n",
              "      <td>1</td>\n",
              "      <td>1557631563</td>\n",
              "      <td>Sun Apr 19 05:13:27 PDT 2009</td>\n",
              "      <td>NO_QUERY</td>\n",
              "      <td>Jemstar3</td>\n",
              "      <td>is wondering how everyone is</td>\n",
              "      <td>is wondering how everyone is</td>\n",
              "      <td>[wonder, everyon]</td>\n",
              "      <td>1</td>\n",
              "    </tr>\n",
              "  </tbody>\n",
              "</table>\n",
              "<p>8001 rows × 9 columns</p>\n",
              "</div>\n",
              "    <div class=\"colab-df-buttons\">\n",
              "\n",
              "  <div class=\"colab-df-container\">\n",
              "    <button class=\"colab-df-convert\" onclick=\"convertToInteractive('df-e5e303af-538c-4ccc-83f2-9a3f076aaa10')\"\n",
              "            title=\"Convert this dataframe to an interactive table.\"\n",
              "            style=\"display:none;\">\n",
              "\n",
              "  <svg xmlns=\"http://www.w3.org/2000/svg\" height=\"24px\" viewBox=\"0 -960 960 960\">\n",
              "    <path d=\"M120-120v-720h720v720H120Zm60-500h600v-160H180v160Zm220 220h160v-160H400v160Zm0 220h160v-160H400v160ZM180-400h160v-160H180v160Zm440 0h160v-160H620v160ZM180-180h160v-160H180v160Zm440 0h160v-160H620v160Z\"/>\n",
              "  </svg>\n",
              "    </button>\n",
              "\n",
              "  <style>\n",
              "    .colab-df-container {\n",
              "      display:flex;\n",
              "      gap: 12px;\n",
              "    }\n",
              "\n",
              "    .colab-df-convert {\n",
              "      background-color: #E8F0FE;\n",
              "      border: none;\n",
              "      border-radius: 50%;\n",
              "      cursor: pointer;\n",
              "      display: none;\n",
              "      fill: #1967D2;\n",
              "      height: 32px;\n",
              "      padding: 0 0 0 0;\n",
              "      width: 32px;\n",
              "    }\n",
              "\n",
              "    .colab-df-convert:hover {\n",
              "      background-color: #E2EBFA;\n",
              "      box-shadow: 0px 1px 2px rgba(60, 64, 67, 0.3), 0px 1px 3px 1px rgba(60, 64, 67, 0.15);\n",
              "      fill: #174EA6;\n",
              "    }\n",
              "\n",
              "    .colab-df-buttons div {\n",
              "      margin-bottom: 4px;\n",
              "    }\n",
              "\n",
              "    [theme=dark] .colab-df-convert {\n",
              "      background-color: #3B4455;\n",
              "      fill: #D2E3FC;\n",
              "    }\n",
              "\n",
              "    [theme=dark] .colab-df-convert:hover {\n",
              "      background-color: #434B5C;\n",
              "      box-shadow: 0px 1px 3px 1px rgba(0, 0, 0, 0.15);\n",
              "      filter: drop-shadow(0px 1px 2px rgba(0, 0, 0, 0.3));\n",
              "      fill: #FFFFFF;\n",
              "    }\n",
              "  </style>\n",
              "\n",
              "    <script>\n",
              "      const buttonEl =\n",
              "        document.querySelector('#df-e5e303af-538c-4ccc-83f2-9a3f076aaa10 button.colab-df-convert');\n",
              "      buttonEl.style.display =\n",
              "        google.colab.kernel.accessAllowed ? 'block' : 'none';\n",
              "\n",
              "      async function convertToInteractive(key) {\n",
              "        const element = document.querySelector('#df-e5e303af-538c-4ccc-83f2-9a3f076aaa10');\n",
              "        const dataTable =\n",
              "          await google.colab.kernel.invokeFunction('convertToInteractive',\n",
              "                                                    [key], {});\n",
              "        if (!dataTable) return;\n",
              "\n",
              "        const docLinkHtml = 'Like what you see? Visit the ' +\n",
              "          '<a target=\"_blank\" href=https://colab.research.google.com/notebooks/data_table.ipynb>data table notebook</a>'\n",
              "          + ' to learn more about interactive tables.';\n",
              "        element.innerHTML = '';\n",
              "        dataTable['output_type'] = 'display_data';\n",
              "        await google.colab.output.renderOutput(dataTable, element);\n",
              "        const docLink = document.createElement('div');\n",
              "        docLink.innerHTML = docLinkHtml;\n",
              "        element.appendChild(docLink);\n",
              "      }\n",
              "    </script>\n",
              "  </div>\n",
              "\n",
              "\n",
              "<div id=\"df-92773585-9e74-412d-8ab9-54163498b362\">\n",
              "  <button class=\"colab-df-quickchart\" onclick=\"quickchart('df-92773585-9e74-412d-8ab9-54163498b362')\"\n",
              "            title=\"Suggest charts\"\n",
              "            style=\"display:none;\">\n",
              "\n",
              "<svg xmlns=\"http://www.w3.org/2000/svg\" height=\"24px\"viewBox=\"0 0 24 24\"\n",
              "     width=\"24px\">\n",
              "    <g>\n",
              "        <path d=\"M19 3H5c-1.1 0-2 .9-2 2v14c0 1.1.9 2 2 2h14c1.1 0 2-.9 2-2V5c0-1.1-.9-2-2-2zM9 17H7v-7h2v7zm4 0h-2V7h2v10zm4 0h-2v-4h2v4z\"/>\n",
              "    </g>\n",
              "</svg>\n",
              "  </button>\n",
              "\n",
              "<style>\n",
              "  .colab-df-quickchart {\n",
              "      --bg-color: #E8F0FE;\n",
              "      --fill-color: #1967D2;\n",
              "      --hover-bg-color: #E2EBFA;\n",
              "      --hover-fill-color: #174EA6;\n",
              "      --disabled-fill-color: #AAA;\n",
              "      --disabled-bg-color: #DDD;\n",
              "  }\n",
              "\n",
              "  [theme=dark] .colab-df-quickchart {\n",
              "      --bg-color: #3B4455;\n",
              "      --fill-color: #D2E3FC;\n",
              "      --hover-bg-color: #434B5C;\n",
              "      --hover-fill-color: #FFFFFF;\n",
              "      --disabled-bg-color: #3B4455;\n",
              "      --disabled-fill-color: #666;\n",
              "  }\n",
              "\n",
              "  .colab-df-quickchart {\n",
              "    background-color: var(--bg-color);\n",
              "    border: none;\n",
              "    border-radius: 50%;\n",
              "    cursor: pointer;\n",
              "    display: none;\n",
              "    fill: var(--fill-color);\n",
              "    height: 32px;\n",
              "    padding: 0;\n",
              "    width: 32px;\n",
              "  }\n",
              "\n",
              "  .colab-df-quickchart:hover {\n",
              "    background-color: var(--hover-bg-color);\n",
              "    box-shadow: 0 1px 2px rgba(60, 64, 67, 0.3), 0 1px 3px 1px rgba(60, 64, 67, 0.15);\n",
              "    fill: var(--button-hover-fill-color);\n",
              "  }\n",
              "\n",
              "  .colab-df-quickchart-complete:disabled,\n",
              "  .colab-df-quickchart-complete:disabled:hover {\n",
              "    background-color: var(--disabled-bg-color);\n",
              "    fill: var(--disabled-fill-color);\n",
              "    box-shadow: none;\n",
              "  }\n",
              "\n",
              "  .colab-df-spinner {\n",
              "    border: 2px solid var(--fill-color);\n",
              "    border-color: transparent;\n",
              "    border-bottom-color: var(--fill-color);\n",
              "    animation:\n",
              "      spin 1s steps(1) infinite;\n",
              "  }\n",
              "\n",
              "  @keyframes spin {\n",
              "    0% {\n",
              "      border-color: transparent;\n",
              "      border-bottom-color: var(--fill-color);\n",
              "      border-left-color: var(--fill-color);\n",
              "    }\n",
              "    20% {\n",
              "      border-color: transparent;\n",
              "      border-left-color: var(--fill-color);\n",
              "      border-top-color: var(--fill-color);\n",
              "    }\n",
              "    30% {\n",
              "      border-color: transparent;\n",
              "      border-left-color: var(--fill-color);\n",
              "      border-top-color: var(--fill-color);\n",
              "      border-right-color: var(--fill-color);\n",
              "    }\n",
              "    40% {\n",
              "      border-color: transparent;\n",
              "      border-right-color: var(--fill-color);\n",
              "      border-top-color: var(--fill-color);\n",
              "    }\n",
              "    60% {\n",
              "      border-color: transparent;\n",
              "      border-right-color: var(--fill-color);\n",
              "    }\n",
              "    80% {\n",
              "      border-color: transparent;\n",
              "      border-right-color: var(--fill-color);\n",
              "      border-bottom-color: var(--fill-color);\n",
              "    }\n",
              "    90% {\n",
              "      border-color: transparent;\n",
              "      border-bottom-color: var(--fill-color);\n",
              "    }\n",
              "  }\n",
              "</style>\n",
              "\n",
              "  <script>\n",
              "    async function quickchart(key) {\n",
              "      const quickchartButtonEl =\n",
              "        document.querySelector('#' + key + ' button');\n",
              "      quickchartButtonEl.disabled = true;  // To prevent multiple clicks.\n",
              "      quickchartButtonEl.classList.add('colab-df-spinner');\n",
              "      try {\n",
              "        const charts = await google.colab.kernel.invokeFunction(\n",
              "            'suggestCharts', [key], {});\n",
              "      } catch (error) {\n",
              "        console.error('Error during call to suggestCharts:', error);\n",
              "      }\n",
              "      quickchartButtonEl.classList.remove('colab-df-spinner');\n",
              "      quickchartButtonEl.classList.add('colab-df-quickchart-complete');\n",
              "    }\n",
              "    (() => {\n",
              "      let quickchartButtonEl =\n",
              "        document.querySelector('#df-92773585-9e74-412d-8ab9-54163498b362 button');\n",
              "      quickchartButtonEl.style.display =\n",
              "        google.colab.kernel.accessAllowed ? 'block' : 'none';\n",
              "    })();\n",
              "  </script>\n",
              "</div>\n",
              "\n",
              "    </div>\n",
              "  </div>\n"
            ],
            "application/vnd.google.colaboratory.intrinsic+json": {
              "type": "dataframe",
              "variable_name": "df_shuffled"
            }
          },
          "metadata": {},
          "execution_count": 70
        }
      ],
      "source": [
        "df_sorted = df.sort_values(by='id', ascending=True)\n",
        "\n",
        "# Shuffle the data after sorting by 'id' and reset the index\n",
        "df_shuffled = df_sorted.sample(frac=1, random_state=42).reset_index(drop=True)\n",
        "df_shuffled.head(8001)"
      ]
    },
    {
      "cell_type": "markdown",
      "metadata": {
        "id": "6YHtN5xwqiGM"
      },
      "source": [
        "* Convert DataFrame to two lists: one for the tweet tokens (X) and one for the tweet sentiment (y)\n",
        "\n",
        "\n",
        "\n",
        "\n",
        "\n"
      ]
    },
    {
      "cell_type": "code",
      "execution_count": 71,
      "metadata": {
        "id": "ru_1XwdIqgXH"
      },
      "outputs": [],
      "source": [
        "X = df[\"tokens\"].tolist()\n",
        "y = df[\"tweet_sentiment\"].tolist()"
      ]
    },
    {
      "cell_type": "markdown",
      "metadata": {
        "id": "_a_uGCpQ_nu0"
      },
      "source": [
        "\n",
        "\n",
        "## **3.2** Bag of Word"
      ]
    },
    {
      "cell_type": "code",
      "execution_count": 72,
      "metadata": {
        "id": "SomLbPUibDa9"
      },
      "outputs": [],
      "source": [
        "corpus = [[\"love\", \"nlp\"],\n",
        "          [\"miss\", \"you\"],\n",
        "          [\"hate\", \"hate\", \"hate\", \"love\"],\n",
        "          [\"happy\", \"love\", \"hate\"],\n",
        "          [\"i\", \"lost\", \"my\", \"computer\"],\n",
        "          [\"i\", \"am\", \"so\", \"sad\"]]"
      ]
    },
    {
      "cell_type": "code",
      "execution_count": 73,
      "metadata": {
        "id": "UjjZkgHCpw_m"
      },
      "outputs": [],
      "source": [
        "from sklearn.feature_extraction.text import CountVectorizer"
      ]
    },
    {
      "cell_type": "code",
      "execution_count": 74,
      "metadata": {
        "id": "hEzNadu6pwYh"
      },
      "outputs": [],
      "source": [
        "def fit_cv(tweet_corpus):\n",
        "  cv_vect = CountVectorizer(tokenizer=lambda x: x,\n",
        "                            preprocessor=lambda x: x)\n",
        "  cv_vect.fit(tweet_corpus)\n",
        "  return cv_vect"
      ]
    },
    {
      "cell_type": "code",
      "execution_count": 75,
      "metadata": {
        "colab": {
          "base_uri": "https://localhost:8080/"
        },
        "id": "xed7_qlKwoX9",
        "outputId": "19ce8dd4-6a4a-4bb2-b591-b7aae77412db"
      },
      "outputs": [
        {
          "output_type": "stream",
          "name": "stderr",
          "text": [
            "/usr/local/lib/python3.11/dist-packages/sklearn/feature_extraction/text.py:517: UserWarning: The parameter 'token_pattern' will not be used since 'tokenizer' is not None'\n",
            "  warnings.warn(\n"
          ]
        }
      ],
      "source": [
        "cv_vect = fit_cv(corpus)"
      ]
    },
    {
      "cell_type": "code",
      "execution_count": 76,
      "metadata": {
        "id": "SJcalFLxjIEx"
      },
      "outputs": [],
      "source": [
        "\n",
        "ft = cv_vect.get_feature_names_out()\n"
      ]
    },
    {
      "cell_type": "code",
      "execution_count": 77,
      "metadata": {
        "colab": {
          "base_uri": "https://localhost:8080/"
        },
        "id": "e-nxkR7VfWii",
        "outputId": "9c31985e-c131-4af6-e4a5-1c42e77d71b2"
      },
      "outputs": [
        {
          "output_type": "stream",
          "name": "stdout",
          "text": [
            "There are 13 features in this corpus\n",
            "['am' 'computer' 'happy' 'hate' 'i' 'lost' 'love' 'miss' 'my' 'nlp' 'sad'\n",
            " 'so' 'you']\n"
          ]
        }
      ],
      "source": [
        "print(\"There are {} features in this corpus\".format(len(ft)))\n",
        "print(ft)"
      ]
    },
    {
      "cell_type": "code",
      "execution_count": 78,
      "metadata": {
        "id": "MZ-mcZScBdtb"
      },
      "outputs": [],
      "source": [
        "cv_mtx = cv_vect.transform(corpus)"
      ]
    },
    {
      "cell_type": "code",
      "execution_count": 79,
      "metadata": {
        "colab": {
          "base_uri": "https://localhost:8080/"
        },
        "id": "eXm86BaJp0yB",
        "outputId": "223895fc-0ab2-4088-d38c-8e5cbe4a9c11"
      },
      "outputs": [
        {
          "output_type": "stream",
          "name": "stdout",
          "text": [
            "Matrix shape is: (6, 13)\n"
          ]
        }
      ],
      "source": [
        "print(\"Matrix shape is: {}\".format(cv_mtx.shape))"
      ]
    },
    {
      "cell_type": "code",
      "execution_count": 80,
      "metadata": {
        "colab": {
          "base_uri": "https://localhost:8080/"
        },
        "id": "TBH3Hy60gQB4",
        "outputId": "31ffa5bb-8b4c-4ec9-a17c-bdada8152e8c"
      },
      "outputs": [
        {
          "output_type": "execute_result",
          "data": {
            "text/plain": [
              "array([[0, 0, 0, 0, 0, 0, 1, 0, 0, 1, 0, 0, 0],\n",
              "       [0, 0, 0, 0, 0, 0, 0, 1, 0, 0, 0, 0, 1],\n",
              "       [0, 0, 0, 3, 0, 0, 1, 0, 0, 0, 0, 0, 0],\n",
              "       [0, 0, 1, 1, 0, 0, 1, 0, 0, 0, 0, 0, 0],\n",
              "       [0, 1, 0, 0, 1, 1, 0, 0, 1, 0, 0, 0, 0],\n",
              "       [1, 0, 0, 0, 1, 0, 0, 0, 0, 0, 1, 1, 0]])"
            ]
          },
          "metadata": {},
          "execution_count": 80
        }
      ],
      "source": [
        "cv_mtx.toarray()"
      ]
    },
    {
      "cell_type": "code",
      "execution_count": 81,
      "metadata": {
        "colab": {
          "base_uri": "https://localhost:8080/"
        },
        "id": "YLVG9xwdwzuN",
        "outputId": "9a0bb7f4-0f21-46bc-fcf0-02499519aa5a"
      },
      "outputs": [
        {
          "output_type": "execute_result",
          "data": {
            "text/plain": [
              "array([[0, 0, 0, 0, 0, 2, 0, 2, 0, 0, 0, 0, 0]])"
            ]
          },
          "metadata": {},
          "execution_count": 81
        }
      ],
      "source": [
        "new_tweet = [[\"lost\", \"lost\", \"miss\", \"miss\"]]\n",
        "cv_vect.transform(new_tweet).toarray()"
      ]
    },
    {
      "cell_type": "code",
      "execution_count": 82,
      "metadata": {
        "colab": {
          "base_uri": "https://localhost:8080/"
        },
        "id": "LMuCe5KsxyR_",
        "outputId": "78a9637a-56f0-4d71-ea38-b130df795a4a"
      },
      "outputs": [
        {
          "output_type": "execute_result",
          "data": {
            "text/plain": [
              "array([[0, 0, 0, 0, 0, 0, 0, 0, 0, 0, 0, 0, 0]])"
            ]
          },
          "metadata": {},
          "execution_count": 82
        }
      ],
      "source": [
        "unknown_tweet = [[\"John\", \"drives\", \"cars\"]]\n",
        "cv_vect.transform(unknown_tweet).toarray()"
      ]
    },
    {
      "cell_type": "markdown",
      "metadata": {
        "id": "0sa_FL6vn79E"
      },
      "source": [
        "\n",
        "\n",
        "## **3.3** Term Frequency – Inverse Document Frequency (TF-IDF)"
      ]
    },
    {
      "cell_type": "code",
      "execution_count": 83,
      "metadata": {
        "id": "M7ybyRRPZC-L"
      },
      "outputs": [],
      "source": [
        "corpus = [[\"love\", \"nlp\"],\n",
        "          [\"miss\", \"you\"],\n",
        "          [\"hate\", \"hate\", \"hate\", \"love\"],\n",
        "          [\"happy\", \"love\", \"hate\"],\n",
        "          [\"i\", \"lost\", \"my\", \"computer\"],\n",
        "          [\"i\", \"am\", \"so\", \"sad\"]]"
      ]
    },
    {
      "cell_type": "code",
      "execution_count": 84,
      "metadata": {
        "id": "HlBvj6pARLH1"
      },
      "outputs": [],
      "source": [
        "from sklearn.feature_extraction.text import TfidfVectorizer"
      ]
    },
    {
      "cell_type": "code",
      "execution_count": 85,
      "metadata": {
        "id": "9NUd39ZsRQPI"
      },
      "outputs": [],
      "source": [
        "def fit_tfidf(tweet_corpus):\n",
        "  tf_vect = TfidfVectorizer(preprocessor=lambda x: x,\n",
        "                            tokenizer=lambda x: x)\n",
        "  tf_vect.fit(tweet_corpus)\n",
        "  return tf_vect"
      ]
    },
    {
      "cell_type": "code",
      "execution_count": 86,
      "metadata": {
        "id": "NjmZhliftA_Q"
      },
      "outputs": [],
      "source": [
        "tf_vect = fit_tfidf(corpus)\n",
        "tf_mtx = tf_vect.transform(corpus)"
      ]
    },
    {
      "cell_type": "code",
      "execution_count": 87,
      "metadata": {
        "id": "zRqHhf3njSEe"
      },
      "outputs": [],
      "source": [
        "# Assuming tf_vect TfidfVectorizer instance\n",
        "ft = tf_vect.get_feature_names_out()\n"
      ]
    },
    {
      "cell_type": "code",
      "execution_count": 88,
      "metadata": {
        "colab": {
          "base_uri": "https://localhost:8080/"
        },
        "id": "tywqkwWPlYpc",
        "outputId": "42e20837-a6ff-4d1f-cb5c-36ad791eca14"
      },
      "outputs": [
        {
          "output_type": "stream",
          "name": "stdout",
          "text": [
            "There are 13 features in this corpus\n",
            "['am' 'computer' 'happy' 'hate' 'i' 'lost' 'love' 'miss' 'my' 'nlp' 'sad'\n",
            " 'so' 'you']\n"
          ]
        }
      ],
      "source": [
        "print(\"There are {} features in this corpus\".format(len(ft)))\n",
        "print(ft)"
      ]
    },
    {
      "cell_type": "code",
      "execution_count": 89,
      "metadata": {
        "colab": {
          "base_uri": "https://localhost:8080/"
        },
        "id": "XtamuqDjlxmE",
        "outputId": "1be30d01-ad2d-409c-88ff-2990e0ea0813"
      },
      "outputs": [
        {
          "output_type": "stream",
          "name": "stdout",
          "text": [
            "(6, 13)\n"
          ]
        }
      ],
      "source": [
        "print(tf_mtx.shape)"
      ]
    },
    {
      "cell_type": "code",
      "execution_count": 90,
      "metadata": {
        "colab": {
          "base_uri": "https://localhost:8080/"
        },
        "id": "fVVbtSxqlxVi",
        "outputId": "4baa1cf5-3771-40df-e062-e881f69bf37f"
      },
      "outputs": [
        {
          "output_type": "execute_result",
          "data": {
            "text/plain": [
              "array([[0.        , 0.        , 0.        , 0.        , 0.        ,\n",
              "        0.        , 0.56921261, 0.        , 0.        , 0.82219037,\n",
              "        0.        , 0.        , 0.        ],\n",
              "       [0.        , 0.        , 0.        , 0.        , 0.        ,\n",
              "        0.        , 0.        , 0.70710678, 0.        , 0.        ,\n",
              "        0.        , 0.        , 0.70710678],\n",
              "       [0.        , 0.        , 0.        , 0.96260755, 0.        ,\n",
              "        0.        , 0.27089981, 0.        , 0.        , 0.        ,\n",
              "        0.        , 0.        , 0.        ],\n",
              "       [0.        , 0.        , 0.68172171, 0.55902156, 0.        ,\n",
              "        0.        , 0.47196441, 0.        , 0.        , 0.        ,\n",
              "        0.        , 0.        , 0.        ],\n",
              "       [0.        , 0.52182349, 0.        , 0.        , 0.42790272,\n",
              "        0.52182349, 0.        , 0.        , 0.52182349, 0.        ,\n",
              "        0.        , 0.        , 0.        ],\n",
              "       [0.52182349, 0.        , 0.        , 0.        , 0.42790272,\n",
              "        0.        , 0.        , 0.        , 0.        , 0.        ,\n",
              "        0.52182349, 0.52182349, 0.        ]])"
            ]
          },
          "metadata": {},
          "execution_count": 90
        }
      ],
      "source": [
        "tf_mtx.toarray()"
      ]
    },
    {
      "cell_type": "code",
      "execution_count": 91,
      "metadata": {
        "colab": {
          "base_uri": "https://localhost:8080/"
        },
        "id": "87JJ_go4uFO5",
        "outputId": "edb5db11-bf21-425c-d9a4-cd8dcfecab60"
      },
      "outputs": [
        {
          "output_type": "execute_result",
          "data": {
            "text/plain": [
              "array([[0.        , 0.        , 0.        , 0.6340862 , 0.        ,\n",
              "        0.        , 0.        , 0.        , 0.        , 0.77326237,\n",
              "        0.        , 0.        , 0.        ]])"
            ]
          },
          "metadata": {},
          "execution_count": 91
        }
      ],
      "source": [
        "new_tweet = [[\"I\", \"hate\", \"nlp\"]]\n",
        "tf_vect.transform(new_tweet).toarray()"
      ]
    },
    {
      "cell_type": "markdown",
      "metadata": {
        "id": "7H4tg1lhoBxR"
      },
      "source": [
        "\n",
        "\n",
        "#  4.Training & test & evaluation"
      ]
    },
    {
      "cell_type": "code",
      "execution_count": 92,
      "metadata": {
        "id": "TBiVy9LSnlVN"
      },
      "outputs": [],
      "source": [
        "import seaborn as sn\n",
        "\n",
        "def plot_confusion(cm):\n",
        "  plt.figure(figsize = (5,5))\n",
        "  sn.heatmap(cm, annot=True, cmap=\"Blues\", fmt='.0f')\n",
        "  plt.xlabel(\"Prediction\")\n",
        "  plt.ylabel(\"True value\")\n",
        "  plt.title(\"Confusion Matrix\")\n",
        "  return sn"
      ]
    },
    {
      "cell_type": "markdown",
      "metadata": {
        "id": "ePstP2McY2Ql"
      },
      "source": [
        "\n",
        "\n",
        "## **4.1** Train/Test Split"
      ]
    },
    {
      "cell_type": "code",
      "execution_count": 93,
      "metadata": {
        "id": "FbocA4QOGqdW"
      },
      "outputs": [],
      "source": [
        "X = df[\"tokens\"].tolist()\n",
        "y = df[\"tweet_sentiment\"].tolist()"
      ]
    },
    {
      "cell_type": "markdown",
      "metadata": {
        "id": "GnJENLcJooVj"
      },
      "source": [
        "* Import the `train_test_split` function from the Scikit-Learn package"
      ]
    },
    {
      "cell_type": "code",
      "execution_count": 94,
      "metadata": {
        "id": "vkeEyh9TeTT3"
      },
      "outputs": [],
      "source": [
        "from sklearn.model_selection import train_test_split"
      ]
    },
    {
      "cell_type": "code",
      "execution_count": 95,
      "metadata": {
        "id": "XdKNxWTXDvLM"
      },
      "outputs": [],
      "source": [
        "import numpy as np\n",
        "\n",
        "# Sort the dataframe by the 'id' column\n",
        "df_sorted = df.sort_values(by='id', ascending=True)\n",
        "\n",
        "# Shuffle the data after sorting by 'id'\n",
        "df_shuffled = df_sorted.sample(frac=1, random_state=42).reset_index(drop=True)\n",
        "\n",
        "# Then split the shuffled data\n",
        "X_train, X_test, y_train, y_test = train_test_split(df[\"tokens\"], df[\"tweet_sentiment\"],\n",
        "                                                    random_state=0,\n",
        "                                                    train_size=0.80)\n"
      ]
    },
    {
      "cell_type": "code",
      "execution_count": 96,
      "metadata": {
        "colab": {
          "base_uri": "https://localhost:8080/"
        },
        "id": "_fUaBFavoBTG",
        "outputId": "c933242c-c535-452f-d822-f6c86399a515"
      },
      "outputs": [
        {
          "output_type": "stream",
          "name": "stdout",
          "text": [
            "Size of X_train: 1280000\n",
            "Size of y_train: 1280000\n",
            "\n",
            "\n",
            "Size of X_test: 320000\n",
            "Size of y_test: 320000\n",
            "\n",
            "\n",
            "Train proportion: 80%\n"
          ]
        }
      ],
      "source": [
        "print(\"Size of X_train: {}\".format(len(X_train)))\n",
        "print(\"Size of y_train: {}\".format(len(y_train)))\n",
        "print(\"\\n\")\n",
        "print(\"Size of X_test: {}\".format(len(X_test)))\n",
        "print(\"Size of y_test: {}\".format(len(y_test)))\n",
        "print(\"\\n\")\n",
        "print(\"Train proportion: {:.0%}\".format(len(X_train)/\n",
        "                                        (len(X_train)+len(X_test))))"
      ]
    },
    {
      "cell_type": "code",
      "execution_count": 97,
      "metadata": {
        "colab": {
          "base_uri": "https://localhost:8080/"
        },
        "id": "o1bBXWvMJZUE",
        "outputId": "f367b2f0-9cec-4833-c26d-49be557f7fe3"
      },
      "outputs": [
        {
          "output_type": "stream",
          "name": "stdout",
          "text": [
            "Index(['target', 'id', 'date', 'flag', 'user', 'text', 'url', 'tokens',\n",
            "       'tweet_sentiment'],\n",
            "      dtype='object')\n"
          ]
        }
      ],
      "source": [
        "print(df.columns)"
      ]
    },
    {
      "cell_type": "markdown",
      "metadata": {
        "id": "0pV5EWbQpIOp"
      },
      "source": [
        "\n",
        "\n",
        "## **4.2** Logistic Regression"
      ]
    },
    {
      "cell_type": "markdown",
      "metadata": {
        "id": "_8DrY2m6L0zq"
      },
      "source": [
        "* Import the `LogisticRegression` model from Scikit-Learn"
      ]
    },
    {
      "cell_type": "code",
      "execution_count": 98,
      "metadata": {
        "id": "fVCZ2jEcb_Kx"
      },
      "outputs": [],
      "source": [
        "from sklearn.linear_model import LogisticRegression\n",
        "from sklearn.preprocessing import MinMaxScaler\n",
        "from sklearn.preprocessing import StandardScaler"
      ]
    },
    {
      "cell_type": "markdown",
      "metadata": {
        "id": "R8oqTzbsL5N7"
      },
      "source": [
        "* Create a `fit_lr` function used to fit a Logistic Regression model on X and y *training* data"
      ]
    },
    {
      "cell_type": "code",
      "execution_count": 99,
      "metadata": {
        "id": "IN8x-HdwcC1K"
      },
      "outputs": [],
      "source": [
        "\n",
        "\n",
        "from sklearn.preprocessing import MaxAbsScaler\n",
        "\n",
        "def fit_lr(X_train, y_train):\n",
        "    scaler = MaxAbsScaler()  # Works well for sparse data\n",
        "    X_train_scaled = scaler.fit_transform(X_train)\n",
        "\n",
        "    model = LogisticRegression(max_iter=500, solver='saga')  # 'saga' is good for large-scale sparse data\n",
        "    model.fit(X_train_scaled, y_train)\n",
        "\n",
        "    return model"
      ]
    },
    {
      "cell_type": "markdown",
      "metadata": {
        "id": "3ZtyVpIDZBRr"
      },
      "source": [
        "###  **4.2.1** Logistic with  bag of words"
      ]
    },
    {
      "cell_type": "markdown",
      "metadata": {
        "id": "-itafPb7M2O-"
      },
      "source": [
        "* Use the `fit_cv` function on training data to build the Bag-of-Words vectorizer\n",
        "* Transform X_train and X_test data by using the vectorizer"
      ]
    },
    {
      "cell_type": "code",
      "execution_count": 100,
      "metadata": {
        "id": "zXba4ZPaYsb5",
        "colab": {
          "base_uri": "https://localhost:8080/"
        },
        "outputId": "fb0c4e1d-8fae-4b03-ebef-7fac4ebedfba"
      },
      "outputs": [
        {
          "output_type": "stream",
          "name": "stderr",
          "text": [
            "/usr/local/lib/python3.11/dist-packages/sklearn/feature_extraction/text.py:517: UserWarning: The parameter 'token_pattern' will not be used since 'tokenizer' is not None'\n",
            "  warnings.warn(\n"
          ]
        }
      ],
      "source": [
        "cv = fit_cv(X_train)\n",
        "X_train_cv = cv.transform(X_train)\n",
        "X_test_cv = cv.transform(X_test)"
      ]
    },
    {
      "cell_type": "markdown",
      "metadata": {
        "id": "dGDgMoYMNGA4"
      },
      "source": [
        "* Fit the Logistic Regression model on training data by using the `fit_lr` function"
      ]
    },
    {
      "cell_type": "code",
      "execution_count": 101,
      "metadata": {
        "id": "xarmCHAIZMty"
      },
      "outputs": [],
      "source": [
        "model_lr_cv = fit_lr(X_train_cv, y_train)\n",
        "\n",
        "\n"
      ]
    },
    {
      "cell_type": "markdown",
      "metadata": {
        "id": "vo7WerftZV4t"
      },
      "source": [
        "###  **4.2.2** TF-IDF"
      ]
    },
    {
      "cell_type": "markdown",
      "metadata": {
        "id": "zm27oDZHNMxd"
      },
      "source": [
        "* Use the `fit_cv` function on training data to build the Bag-of-Words vectorizer\n",
        "* Transform X_train and X_test data by using the vectorizer"
      ]
    },
    {
      "cell_type": "code",
      "execution_count": 102,
      "metadata": {
        "colab": {
          "base_uri": "https://localhost:8080/"
        },
        "id": "y2Ex6PkLZXwC",
        "outputId": "e7aee156-debf-4c6d-c701-d41df396df37"
      },
      "outputs": [
        {
          "output_type": "stream",
          "name": "stderr",
          "text": [
            "/usr/local/lib/python3.11/dist-packages/sklearn/feature_extraction/text.py:517: UserWarning: The parameter 'token_pattern' will not be used since 'tokenizer' is not None'\n",
            "  warnings.warn(\n"
          ]
        }
      ],
      "source": [
        "tf = fit_tfidf(X_train)\n",
        "X_train_tf = tf.transform(X_train)\n",
        "X_test_tf = tf.transform(X_test)"
      ]
    },
    {
      "cell_type": "markdown",
      "metadata": {
        "id": "NdkMm9TWNVTM"
      },
      "source": [
        "* Fit the Logistic Regression model on training data by using the `fit_lr` function"
      ]
    },
    {
      "cell_type": "code",
      "execution_count": 103,
      "metadata": {
        "id": "JfXA_WE7ZgCO"
      },
      "outputs": [],
      "source": [
        "model_lr_tf = fit_lr(X_train_tf, y_train)"
      ]
    },
    {
      "cell_type": "markdown",
      "metadata": {
        "id": "dTZWCw7CuAqy"
      },
      "source": [
        "\n",
        "\n",
        "## **4.3** Performance Metrics"
      ]
    },
    {
      "cell_type": "markdown",
      "metadata": {
        "id": "GlWsYS6GNYi8"
      },
      "source": [
        "* Import the `accuracy score` and `confusion matrix` from Scikit-Learn"
      ]
    },
    {
      "cell_type": "code",
      "execution_count": 104,
      "metadata": {
        "id": "Pv_HXA9ttu4I"
      },
      "outputs": [],
      "source": [
        "from sklearn.metrics import accuracy_score\n",
        "from sklearn.metrics import confusion_matrix"
      ]
    },
    {
      "cell_type": "markdown",
      "metadata": {
        "id": "HzTQksefvlxJ"
      },
      "source": [
        "###  **4.3.1** Bag of words"
      ]
    },
    {
      "cell_type": "code",
      "execution_count": 105,
      "metadata": {
        "id": "suYa_OYgZPq1"
      },
      "outputs": [],
      "source": [
        "y_pred_lr_cv = model_lr_cv.predict(X_test_cv)"
      ]
    },
    {
      "cell_type": "code",
      "execution_count": 106,
      "metadata": {
        "colab": {
          "base_uri": "https://localhost:8080/"
        },
        "id": "WAOncwPekK1_",
        "outputId": "6287042d-bb47-46eb-e85e-537a6e638d9c"
      },
      "outputs": [
        {
          "output_type": "stream",
          "name": "stdout",
          "text": [
            "LR Model Accuracy: 76.99%\n"
          ]
        }
      ],
      "source": [
        "print(\"LR Model Accuracy: {:.2%}\".format(accuracy_score(y_test, y_pred_lr_cv)))"
      ]
    },
    {
      "cell_type": "code",
      "execution_count": 107,
      "metadata": {
        "colab": {
          "base_uri": "https://localhost:8080/",
          "height": 504
        },
        "id": "HlaWIWnNkL1O",
        "outputId": "99bf0dc0-253f-4a91-fc8c-6f68a31dc45f"
      },
      "outputs": [
        {
          "output_type": "execute_result",
          "data": {
            "text/plain": [
              "<module 'seaborn' from '/usr/local/lib/python3.11/dist-packages/seaborn/__init__.py'>"
            ]
          },
          "metadata": {},
          "execution_count": 107
        },
        {
          "output_type": "display_data",
          "data": {
            "text/plain": [
              "<Figure size 500x500 with 2 Axes>"
            ],
            "image/png": "[encoded data removed]"
          },
          "metadata": {}
        }
      ],
      "source": [
        "plot_confusion(confusion_matrix(y_test, y_pred_lr_cv))"
      ]
    },
    {
      "cell_type": "markdown",
      "metadata": {
        "id": "3TxYFxnduFCH"
      },
      "source": [
        "###  **4.3.2** TF-IDF"
      ]
    },
    {
      "cell_type": "code",
      "execution_count": 108,
      "metadata": {
        "id": "o4MmLzcCZvto"
      },
      "outputs": [],
      "source": [
        "y_pred_lr_tf = model_lr_tf.predict(X_test_tf)"
      ]
    },
    {
      "cell_type": "code",
      "execution_count": 109,
      "metadata": {
        "colab": {
          "base_uri": "https://localhost:8080/"
        },
        "id": "GD6mO1eJkV3m",
        "outputId": "33ed0425-fd26-4e52-a968-ad20db9ed841"
      },
      "outputs": [
        {
          "output_type": "stream",
          "name": "stdout",
          "text": [
            "LR Model Accuracy: 78.26%\n"
          ]
        }
      ],
      "source": [
        "print(\"LR Model Accuracy: {:.2%}\".format(accuracy_score(y_test, y_pred_lr_tf)))"
      ]
    },
    {
      "cell_type": "code",
      "execution_count": 110,
      "metadata": {
        "colab": {
          "base_uri": "https://localhost:8080/",
          "height": 504
        },
        "id": "kt_FBSmbkW0b",
        "outputId": "6e25917f-fb7c-4c5d-de80-c569601aca43"
      },
      "outputs": [
        {
          "output_type": "execute_result",
          "data": {
            "text/plain": [
              "<module 'seaborn' from '/usr/local/lib/python3.11/dist-packages/seaborn/__init__.py'>"
            ]
          },
          "metadata": {},
          "execution_count": 110
        },
        {
          "output_type": "display_data",
          "data": {
            "text/plain": [
              "<Figure size 500x500 with 2 Axes>"
            ],
            "image/png": "[encoded data removed]"
          },
          "metadata": {}
        }
      ],
      "source": [
        "plot_confusion(confusion_matrix(y_test, y_pred_lr_tf))"
      ]
    },
    {
      "cell_type": "code",
      "source": [
        "from sklearn.metrics import accuracy_score, precision_score, recall_score, f1_score\n",
        "from sklearn.metrics import classification_report, accuracy_score, confusion_matrix\n",
        "print(\"Precision          : {:.2%}\".format(precision_score(y_test, y_pred_lr_tf, pos_label='1')))\n",
        "print(\"Recall             : {:.2%}\".format(recall_score(y_test, y_pred_lr_tf, pos_label='1')))\n",
        "print(\"F1 Score           : {:.2%}\".format(f1_score(y_test, y_pred_lr_tf, pos_label='1')))\n"
      ],
      "metadata": {
        "colab": {
          "base_uri": "https://localhost:8080/"
        },
        "id": "0BKO1jNFrQ-Q",
        "outputId": "42abbd6e-d0c7-488b-87ba-f4615fd0da9f"
      },
      "execution_count": 114,
      "outputs": [
        {
          "output_type": "stream",
          "name": "stdout",
          "text": [
            "Precision          : 77.14%\n",
            "Recall             : 80.39%\n",
            "F1 Score           : 78.73%\n",
            "Model Evaluation\n",
            "==================================================\n",
            "Accuracy: 0.7826\n",
            "\n",
            "Classification Report:\n",
            "              precision    recall  f1-score   support\n",
            "\n",
            "           0       0.79      0.76      0.78    159815\n",
            "           1       0.77      0.80      0.79    160185\n",
            "\n",
            "    accuracy                           0.78    320000\n",
            "   macro avg       0.78      0.78      0.78    320000\n",
            "weighted avg       0.78      0.78      0.78    320000\n",
            "\n"
          ]
        }
      ]
    },
    {
      "cell_type": "markdown",
      "metadata": {
        "id": "WUjQh8vnPld9"
      },
      "source": [
        "## **4.4** Mini-Pipeline\n"
      ]
    },
    {
      "cell_type": "code",
      "execution_count": null,
      "metadata": {
        "colab": {
          "base_uri": "https://localhost:8080/"
        },
        "id": "bpybhropPsSe",
        "outputId": "f00f7848-338a-4193-f244-aa9daca67108"
      },
      "outputs": [
        {
          "output_type": "stream",
          "name": "stdout",
          "text": [
            "['good', 'normal']\n",
            "<Compressed Sparse Row sparse matrix of dtype 'float64'\n",
            "\twith 7 stored elements and shape (2, 165599)>\n",
            "  Coords\tValues\n",
            "  (0, 53162)\t0.29891000602830625\n",
            "  (0, 102069)\t0.9542813045932305\n",
            "  (1, 0)\t0.626395483921705\n",
            "  (1, 79566)\t0.33171498206492606\n",
            "  (1, 96700)\t0.27054325722257144\n",
            "  (1, 102069)\t0.5864517564834539\n",
            "  (1, 116111)\t0.28368036887495784\n",
            "['1' '1']\n"
          ]
        }
      ],
      "source": [
        "your_tweet = \"\"\" good for more normal \"\"\"\n",
        "print(process_tweet(your_tweet))\n",
        "transformed_tweet = tf.transform(process_tweet(your_tweet))\n",
        "print(transformed_tweet)\n",
        "prediction = model_lr_tf.predict(transformed_tweet)\n",
        "print(prediction)"
      ]
    },
    {
      "cell_type": "markdown",
      "metadata": {
        "id": "8nmPPbkPOSda"
      },
      "source": [
        "* Create a `predict_tweet` function used to pre-process, transform and predict tweet sentiment"
      ]
    },
    {
      "cell_type": "code",
      "execution_count": null,
      "metadata": {
        "id": "Z3LKbEteQOXy"
      },
      "outputs": [],
      "source": [
        "def predict_tweet(tweet):\n",
        "  processed_tweet = process_tweet(tweet)\n",
        "\n",
        "  transformed_tweet = tf.transform([processed_tweet])\n",
        "  prediction = model_lr_tf.predict(transformed_tweet)\n",
        "\n",
        "  if prediction[0] == '1':\n",
        "    return \"Prediction is positive sentiment\"\n",
        "  else:\n",
        "    return \"Prediction is negative sentiment\""
      ]
    },
    {
      "cell_type": "code",
      "execution_count": null,
      "metadata": {
        "colab": {
          "base_uri": "https://localhost:8080/",
          "height": 35
        },
        "id": "YThD6uAmMFEZ",
        "outputId": "d0bb0788-a15b-4cd5-a59d-53e0ff06ad2a"
      },
      "outputs": [
        {
          "output_type": "execute_result",
          "data": {
            "text/plain": [
              "'Prediction is positive sentiment'"
            ],
            "application/vnd.google.colaboratory.intrinsic+json": {
              "type": "string"
            }
          },
          "metadata": {},
          "execution_count": 119
        }
      ],
      "source": [
        "predict_tweet(your_tweet)"
      ]
    },
    {
      "cell_type": "markdown",
      "source": [
        "# 4.5 Multinomial Naive Bayes"
      ],
      "metadata": {
        "id": "irZE-J-VC_Hb"
      }
    },
    {
      "cell_type": "code",
      "source": [
        "import pandas as pd\n",
        "from sklearn.feature_extraction.text import TfidfVectorizer\n",
        "from sklearn.naive_bayes import MultinomialNB\n",
        "from sklearn.model_selection import train_test_split\n",
        "from sklearn.metrics import classification_report, accuracy_score, confusion_matrix\n",
        "import matplotlib.pyplot as plt\n",
        "import seaborn as sns\n",
        "\n",
        "\n",
        "if isinstance(df[\"tokens\"].iloc[0], list):\n",
        "    df[\"processed_text\"] = df[\"tokens\"].apply(lambda x: ' '.join(x))\n",
        "else:\n",
        "    df[\"processed_text\"] = df[\"tokens\"]\n",
        "\n",
        "# TF-IDF Vectorization\n",
        "tfidf_vectorizer = TfidfVectorizer(\n",
        "    max_features=5000,\n",
        "    stop_words='english',\n",
        "    ngram_range=(1, 2)\n",
        ")\n",
        "\n",
        "X = tfidf_vectorizer.fit_transform(df[\"processed_text\"])\n",
        "y = df[\"tweet_sentiment\"]\n",
        "\n",
        "# Split the data\n",
        "X_train, X_test, y_train, y_test = train_test_split(\n",
        "    X, y,\n",
        "    test_size=0.2,        # 80% train, 20% test\n",
        "    random_state=42,\n",
        "    stratify=y\n",
        ")\n",
        "\n",
        "# Initialize and train Multinomial Naive Bayes\n",
        "nb_classifier = MultinomialNB(alpha=1.0)\n",
        "nb_classifier.fit(X_train, y_train)\n",
        "\n",
        "# Predictions\n",
        "y_pred = nb_classifier.predict(X_test)\n",
        "\n",
        "# Evaluation\n",
        "print(\"Model Evaluation\")\n",
        "print(\"=\" * 50)\n",
        "print(f\"Accuracy: {accuracy_score(y_test, y_pred):.4f}\")\n",
        "print(\"\\nClassification Report:\")\n",
        "print(classification_report(y_test, y_pred))\n",
        "\n",
        "# Confusion Matrix Visualization\n",
        "conf_matrix = confusion_matrix(y_test, y_pred)\n",
        "plt.figure(figsize=(8, 6))\n",
        "sns.heatmap(conf_matrix, annot=True, fmt='d', cmap='Blues',\n",
        "            xticklabels=nb_classifier.classes_,\n",
        "            yticklabels=nb_classifier.classes_)\n",
        "plt.title('Confusion Matrix')\n",
        "plt.xlabel('Predicted')\n",
        "plt.ylabel('Actual')\n",
        "plt.show()\n",
        "\n",
        "# Example Prediction\n",
        "sample_text = [\"I love this product! It's amazing.\"]\n",
        "sample_vec = tfidf_vectorizer.transform(sample_text)\n",
        "print(\"\\nExample Prediction:\")\n",
        "print(f\"Text: {sample_text[0]}\")\n",
        "print(f\"Predicted sentiment: {nb_classifier.predict(sample_vec)[0]}\")"
      ],
      "metadata": {
        "colab": {
          "base_uri": "https://localhost:8080/",
          "height": 876
        },
        "id": "rEOjjB5O_xXP",
        "outputId": "ee0da944-bc02-431d-af74-55b2d197f63f"
      },
      "execution_count": null,
      "outputs": [
        {
          "output_type": "stream",
          "name": "stdout",
          "text": [
            "Model Evaluation\n",
            "==================================================\n",
            "Accuracy: 0.7455\n",
            "\n",
            "Classification Report:\n",
            "              precision    recall  f1-score   support\n",
            "\n",
            "           0       0.74      0.75      0.75    160000\n",
            "           1       0.75      0.74      0.74    160000\n",
            "\n",
            "    accuracy                           0.75    320000\n",
            "   macro avg       0.75      0.75      0.75    320000\n",
            "weighted avg       0.75      0.75      0.75    320000\n",
            "\n"
          ]
        },
        {
          "output_type": "display_data",
          "data": {
            "text/plain": [
              "<Figure size 800x600 with 2 Axes>"
            ],
            "image/png": "[encoded data removed]"
          },
          "metadata": {}
        },
        {
          "output_type": "stream",
          "name": "stdout",
          "text": [
            "\n",
            "Example Prediction:\n",
            "Text: I love this product! It's amazing.\n",
            "Predicted sentiment: 1\n"
          ]
        }
      ]
    }
  ],
  "metadata": {
    "accelerator": "TPU",
    "colab": {
      "collapsed_sections": [
        "DHH-1YKcIuRW",
        "0LKMid597qjL",
        "7URUz-xz9otD"
      ],
      "gpuType": "V28",
      "provenance": []
    },
    "kernelspec": {
      "display_name": "Python 3",
      "name": "python3"
    }
  },
  "nbformat": 4,
  "nbformat_minor": 0
}